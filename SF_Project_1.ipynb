{
 "cells": [
  {
   "cell_type": "markdown",
   "id": "42289889-bd57-434e-9637-d3e354756316",
   "metadata": {},
   "source": [
    "<center> <img src = https://raw.githubusercontent.com/AndreyRysistov/DatasetsForPandas/main/hh%20label.jpg alt=\"drawing\" style=\"width:400px;\">"
   ]
  },
  {
   "cell_type": "markdown",
   "id": "829cb75b-f14e-4ba8-9195-7ba929a7d656",
   "metadata": {
    "tags": []
   },
   "source": [
    "# <center> Проект: Анализ вакансий на hh.ru\n",
    "   "
   ]
  },
  {
   "cell_type": "code",
   "execution_count": 96,
   "id": "dccfde33-2452-43fb-a8a5-5c6ebc02a71d",
   "metadata": {},
   "outputs": [],
   "source": [
    "import pandas as pd\n",
    "import numpy as np\n",
    "import matplotlib.pyplot as plt\n",
    "import seaborn as sns\n",
    "import plotly.express as px"
   ]
  },
  {
   "cell_type": "markdown",
   "id": "0dc6476b-7a00-44f1-ac93-6e3baed33a29",
   "metadata": {},
   "source": [
    "# Исследование структуры данных"
   ]
  },
  {
   "cell_type": "markdown",
   "id": "889782b6-8d1c-410e-8920-e57f27917c64",
   "metadata": {},
   "source": [
    "1. Прочитайте данные с помощью библиотеки Pandas. Совет: перед чтением обратите внимание на разделитель внутри файла. "
   ]
  },
  {
   "cell_type": "code",
   "execution_count": 97,
   "id": "bc39e68e-ed02-4ee2-9235-7258a2f867a8",
   "metadata": {},
   "outputs": [],
   "source": [
    "hh_df = pd.read_csv('/home/frater/Документы/python_dev/py_study/kg_database/hh_database.csv', sep=';')"
   ]
  },
  {
   "cell_type": "markdown",
   "id": "b583485d-1f9e-494e-ada4-80ffff7c53d6",
   "metadata": {},
   "source": [
    "2. Выведите несколько первых (последних строк таблицы), чтобы убедиться в том, что ваши данные не повреждены. Ознакомьтесь с признаками и их структурой."
   ]
  },
  {
   "cell_type": "code",
   "execution_count": 98,
   "id": "5408c52c-3407-4a63-b25b-1aafa2322d28",
   "metadata": {},
   "outputs": [
    {
     "data": {
      "text/html": [
       "<div>\n",
       "<style scoped>\n",
       "    .dataframe tbody tr th:only-of-type {\n",
       "        vertical-align: middle;\n",
       "    }\n",
       "\n",
       "    .dataframe tbody tr th {\n",
       "        vertical-align: top;\n",
       "    }\n",
       "\n",
       "    .dataframe thead th {\n",
       "        text-align: right;\n",
       "    }\n",
       "</style>\n",
       "<table border=\"1\" class=\"dataframe\">\n",
       "  <thead>\n",
       "    <tr style=\"text-align: right;\">\n",
       "      <th></th>\n",
       "      <th>Пол, возраст</th>\n",
       "      <th>ЗП</th>\n",
       "      <th>Ищет работу на должность:</th>\n",
       "      <th>Город, переезд, командировки</th>\n",
       "      <th>Занятость</th>\n",
       "      <th>График</th>\n",
       "      <th>Опыт работы</th>\n",
       "      <th>Последнее/нынешнее место работы</th>\n",
       "      <th>Последняя/нынешняя должность</th>\n",
       "      <th>Образование и ВУЗ</th>\n",
       "      <th>Обновление резюме</th>\n",
       "      <th>Авто</th>\n",
       "    </tr>\n",
       "  </thead>\n",
       "  <tbody>\n",
       "    <tr>\n",
       "      <th>0</th>\n",
       "      <td>Мужчина ,  39 лет , родился 27 ноября 1979</td>\n",
       "      <td>29000 руб.</td>\n",
       "      <td>Системный администратор</td>\n",
       "      <td>Советск (Калининградская область) , не готов к...</td>\n",
       "      <td>частичная занятость, проектная работа, полная ...</td>\n",
       "      <td>гибкий график, полный день, сменный график, ва...</td>\n",
       "      <td>Опыт работы 16 лет 10 месяцев  Август 2010 — п...</td>\n",
       "      <td>МАОУ \"СОШ № 1 г.Немана\"</td>\n",
       "      <td>Системный администратор</td>\n",
       "      <td>Неоконченное высшее образование 2000  Балтийск...</td>\n",
       "      <td>16.04.2019 15:59</td>\n",
       "      <td>Имеется собственный автомобиль</td>\n",
       "    </tr>\n",
       "    <tr>\n",
       "      <th>1</th>\n",
       "      <td>Мужчина ,  60 лет , родился 20 марта 1959</td>\n",
       "      <td>40000 руб.</td>\n",
       "      <td>Технический писатель</td>\n",
       "      <td>Королев , не готов к переезду , готов к редким...</td>\n",
       "      <td>частичная занятость, проектная работа, полная ...</td>\n",
       "      <td>гибкий график, полный день, сменный график, уд...</td>\n",
       "      <td>Опыт работы 19 лет 5 месяцев  Январь 2000 — по...</td>\n",
       "      <td>Временный трудовой коллектив</td>\n",
       "      <td>Менеджер проекта, Аналитик, Технический писатель</td>\n",
       "      <td>Высшее образование 1981  Военно-космическая ак...</td>\n",
       "      <td>12.04.2019 08:42</td>\n",
       "      <td>Не указано</td>\n",
       "    </tr>\n",
       "    <tr>\n",
       "      <th>2</th>\n",
       "      <td>Женщина ,  36 лет , родилась 12 августа 1982</td>\n",
       "      <td>20000 руб.</td>\n",
       "      <td>Оператор</td>\n",
       "      <td>Тверь , не готова к переезду , не готова к ком...</td>\n",
       "      <td>полная занятость</td>\n",
       "      <td>полный день</td>\n",
       "      <td>Опыт работы 10 лет 3 месяца  Октябрь 2004 — Де...</td>\n",
       "      <td>ПАО Сбербанк</td>\n",
       "      <td>Кассир-операционист</td>\n",
       "      <td>Среднее специальное образование 2002 Профессио...</td>\n",
       "      <td>16.04.2019 08:35</td>\n",
       "      <td>Не указано</td>\n",
       "    </tr>\n",
       "    <tr>\n",
       "      <th>3</th>\n",
       "      <td>Мужчина ,  38 лет , родился 25 июня 1980</td>\n",
       "      <td>100000 руб.</td>\n",
       "      <td>Веб-разработчик (HTML / CSS / JS / PHP / базы ...</td>\n",
       "      <td>Саратов , не готов к переезду , готов к редким...</td>\n",
       "      <td>частичная занятость, проектная работа, полная ...</td>\n",
       "      <td>гибкий график, удаленная работа</td>\n",
       "      <td>Опыт работы 18 лет 9 месяцев  Август 2017 — Ап...</td>\n",
       "      <td>OpenSoft</td>\n",
       "      <td>Инженер-программист</td>\n",
       "      <td>Высшее образование 2002  Саратовский государст...</td>\n",
       "      <td>08.04.2019 14:23</td>\n",
       "      <td>Не указано</td>\n",
       "    </tr>\n",
       "    <tr>\n",
       "      <th>4</th>\n",
       "      <td>Женщина ,  26 лет , родилась 3 марта 1993</td>\n",
       "      <td>140000 руб.</td>\n",
       "      <td>Региональный менеджер по продажам</td>\n",
       "      <td>Москва , не готова к переезду , готова к коман...</td>\n",
       "      <td>полная занятость</td>\n",
       "      <td>полный день</td>\n",
       "      <td>Опыт работы 5 лет 7 месяцев  Региональный мене...</td>\n",
       "      <td>Мармелад</td>\n",
       "      <td>Менеджер по продажам</td>\n",
       "      <td>Высшее образование 2015 Кгу Психологии и педаг...</td>\n",
       "      <td>22.04.2019 10:32</td>\n",
       "      <td>Не указано</td>\n",
       "    </tr>\n",
       "  </tbody>\n",
       "</table>\n",
       "</div>"
      ],
      "text/plain": [
       "                                   Пол, возраст           ЗП  \\\n",
       "0    Мужчина ,  39 лет , родился 27 ноября 1979   29000 руб.   \n",
       "1     Мужчина ,  60 лет , родился 20 марта 1959   40000 руб.   \n",
       "2  Женщина ,  36 лет , родилась 12 августа 1982   20000 руб.   \n",
       "3      Мужчина ,  38 лет , родился 25 июня 1980  100000 руб.   \n",
       "4     Женщина ,  26 лет , родилась 3 марта 1993  140000 руб.   \n",
       "\n",
       "                           Ищет работу на должность:  \\\n",
       "0                            Системный администратор   \n",
       "1                               Технический писатель   \n",
       "2                                           Оператор   \n",
       "3  Веб-разработчик (HTML / CSS / JS / PHP / базы ...   \n",
       "4                  Региональный менеджер по продажам   \n",
       "\n",
       "                        Город, переезд, командировки  \\\n",
       "0  Советск (Калининградская область) , не готов к...   \n",
       "1  Королев , не готов к переезду , готов к редким...   \n",
       "2  Тверь , не готова к переезду , не готова к ком...   \n",
       "3  Саратов , не готов к переезду , готов к редким...   \n",
       "4  Москва , не готова к переезду , готова к коман...   \n",
       "\n",
       "                                           Занятость  \\\n",
       "0  частичная занятость, проектная работа, полная ...   \n",
       "1  частичная занятость, проектная работа, полная ...   \n",
       "2                                   полная занятость   \n",
       "3  частичная занятость, проектная работа, полная ...   \n",
       "4                                   полная занятость   \n",
       "\n",
       "                                              График  \\\n",
       "0  гибкий график, полный день, сменный график, ва...   \n",
       "1  гибкий график, полный день, сменный график, уд...   \n",
       "2                                        полный день   \n",
       "3                    гибкий график, удаленная работа   \n",
       "4                                        полный день   \n",
       "\n",
       "                                         Опыт работы  \\\n",
       "0  Опыт работы 16 лет 10 месяцев  Август 2010 — п...   \n",
       "1  Опыт работы 19 лет 5 месяцев  Январь 2000 — по...   \n",
       "2  Опыт работы 10 лет 3 месяца  Октябрь 2004 — Де...   \n",
       "3  Опыт работы 18 лет 9 месяцев  Август 2017 — Ап...   \n",
       "4  Опыт работы 5 лет 7 месяцев  Региональный мене...   \n",
       "\n",
       "  Последнее/нынешнее место работы  \\\n",
       "0         МАОУ \"СОШ № 1 г.Немана\"   \n",
       "1    Временный трудовой коллектив   \n",
       "2                    ПАО Сбербанк   \n",
       "3                        OpenSoft   \n",
       "4                        Мармелад   \n",
       "\n",
       "                       Последняя/нынешняя должность  \\\n",
       "0                           Системный администратор   \n",
       "1  Менеджер проекта, Аналитик, Технический писатель   \n",
       "2                               Кассир-операционист   \n",
       "3                               Инженер-программист   \n",
       "4                              Менеджер по продажам   \n",
       "\n",
       "                                   Образование и ВУЗ Обновление резюме  \\\n",
       "0  Неоконченное высшее образование 2000  Балтийск...  16.04.2019 15:59   \n",
       "1  Высшее образование 1981  Военно-космическая ак...  12.04.2019 08:42   \n",
       "2  Среднее специальное образование 2002 Профессио...  16.04.2019 08:35   \n",
       "3  Высшее образование 2002  Саратовский государст...  08.04.2019 14:23   \n",
       "4  Высшее образование 2015 Кгу Психологии и педаг...  22.04.2019 10:32   \n",
       "\n",
       "                             Авто  \n",
       "0  Имеется собственный автомобиль  \n",
       "1                      Не указано  \n",
       "2                      Не указано  \n",
       "3                      Не указано  \n",
       "4                      Не указано  "
      ]
     },
     "execution_count": 98,
     "metadata": {},
     "output_type": "execute_result"
    }
   ],
   "source": [
    "hh_df.head(5)"
   ]
  },
  {
   "cell_type": "markdown",
   "id": "a2bfff1f-c975-4bf6-84be-2185d79dcb76",
   "metadata": {},
   "source": [
    "3. Выведите основную информацию о числе непустых значений в столбцах и их типах в таблице"
   ]
  },
  {
   "cell_type": "markdown",
   "id": "41bb59f3-53cc-4a67-a5bc-bedf573955e4",
   "metadata": {},
   "source": [
    "4. Обратите внимание на информацию о числе непустых значений"
   ]
  },
  {
   "cell_type": "code",
   "execution_count": 99,
   "id": "d286cf4c-707b-4cd2-9190-7ab3587d04a1",
   "metadata": {},
   "outputs": [
    {
     "name": "stdout",
     "output_type": "stream",
     "text": [
      "<class 'pandas.core.frame.DataFrame'>\n",
      "RangeIndex: 44744 entries, 0 to 44743\n",
      "Data columns (total 12 columns):\n",
      " #   Column                           Non-Null Count  Dtype \n",
      "---  ------                           --------------  ----- \n",
      " 0   Пол, возраст                     44744 non-null  object\n",
      " 1   ЗП                               44744 non-null  object\n",
      " 2   Ищет работу на должность:        44744 non-null  object\n",
      " 3   Город, переезд, командировки     44744 non-null  object\n",
      " 4   Занятость                        44744 non-null  object\n",
      " 5   График                           44744 non-null  object\n",
      " 6   Опыт работы                      44576 non-null  object\n",
      " 7   Последнее/нынешнее место работы  44743 non-null  object\n",
      " 8   Последняя/нынешняя должность     44742 non-null  object\n",
      " 9   Образование и ВУЗ                44744 non-null  object\n",
      " 10  Обновление резюме                44744 non-null  object\n",
      " 11  Авто                             44744 non-null  object\n",
      "dtypes: object(12)\n",
      "memory usage: 4.1+ MB\n"
     ]
    }
   ],
   "source": [
    "hh_df.info()"
   ]
  },
  {
   "cell_type": "markdown",
   "id": "9a8a2181-6914-448b-85f1-38f5f18b8a93",
   "metadata": {},
   "source": [
    "5. Выведите основную статистическую информацию о столбцах.\n"
   ]
  },
  {
   "cell_type": "code",
   "execution_count": 100,
   "id": "be4e9bd3-a4db-4a20-82fb-6b02fc2957e0",
   "metadata": {},
   "outputs": [
    {
     "data": {
      "text/html": [
       "<div>\n",
       "<style scoped>\n",
       "    .dataframe tbody tr th:only-of-type {\n",
       "        vertical-align: middle;\n",
       "    }\n",
       "\n",
       "    .dataframe tbody tr th {\n",
       "        vertical-align: top;\n",
       "    }\n",
       "\n",
       "    .dataframe thead th {\n",
       "        text-align: right;\n",
       "    }\n",
       "</style>\n",
       "<table border=\"1\" class=\"dataframe\">\n",
       "  <thead>\n",
       "    <tr style=\"text-align: right;\">\n",
       "      <th></th>\n",
       "      <th>count</th>\n",
       "      <th>unique</th>\n",
       "      <th>top</th>\n",
       "      <th>freq</th>\n",
       "    </tr>\n",
       "  </thead>\n",
       "  <tbody>\n",
       "    <tr>\n",
       "      <th>Пол, возраст</th>\n",
       "      <td>44744</td>\n",
       "      <td>16003</td>\n",
       "      <td>Мужчина ,  32 года , родился 17 сентября 1986</td>\n",
       "      <td>18</td>\n",
       "    </tr>\n",
       "    <tr>\n",
       "      <th>ЗП</th>\n",
       "      <td>44744</td>\n",
       "      <td>690</td>\n",
       "      <td>50000 руб.</td>\n",
       "      <td>4064</td>\n",
       "    </tr>\n",
       "    <tr>\n",
       "      <th>Ищет работу на должность:</th>\n",
       "      <td>44744</td>\n",
       "      <td>14929</td>\n",
       "      <td>Системный администратор</td>\n",
       "      <td>3099</td>\n",
       "    </tr>\n",
       "    <tr>\n",
       "      <th>Город, переезд, командировки</th>\n",
       "      <td>44744</td>\n",
       "      <td>10063</td>\n",
       "      <td>Москва , не готов к переезду , не готов к кома...</td>\n",
       "      <td>1261</td>\n",
       "    </tr>\n",
       "    <tr>\n",
       "      <th>Занятость</th>\n",
       "      <td>44744</td>\n",
       "      <td>38</td>\n",
       "      <td>полная занятость</td>\n",
       "      <td>30026</td>\n",
       "    </tr>\n",
       "    <tr>\n",
       "      <th>График</th>\n",
       "      <td>44744</td>\n",
       "      <td>47</td>\n",
       "      <td>полный день</td>\n",
       "      <td>22727</td>\n",
       "    </tr>\n",
       "    <tr>\n",
       "      <th>Опыт работы</th>\n",
       "      <td>44576</td>\n",
       "      <td>44413</td>\n",
       "      <td>Опыт работы 10 лет 8 месяцев  Апрель 2018 — по...</td>\n",
       "      <td>3</td>\n",
       "    </tr>\n",
       "    <tr>\n",
       "      <th>Последнее/нынешнее место работы</th>\n",
       "      <td>44743</td>\n",
       "      <td>30214</td>\n",
       "      <td>Индивидуальное предпринимательство / частная п...</td>\n",
       "      <td>935</td>\n",
       "    </tr>\n",
       "    <tr>\n",
       "      <th>Последняя/нынешняя должность</th>\n",
       "      <td>44742</td>\n",
       "      <td>16927</td>\n",
       "      <td>Системный администратор</td>\n",
       "      <td>2062</td>\n",
       "    </tr>\n",
       "    <tr>\n",
       "      <th>Образование и ВУЗ</th>\n",
       "      <td>44744</td>\n",
       "      <td>40148</td>\n",
       "      <td>Высшее образование 2014  Московский технически...</td>\n",
       "      <td>4</td>\n",
       "    </tr>\n",
       "    <tr>\n",
       "      <th>Обновление резюме</th>\n",
       "      <td>44744</td>\n",
       "      <td>18838</td>\n",
       "      <td>07.05.2019 09:50</td>\n",
       "      <td>25</td>\n",
       "    </tr>\n",
       "    <tr>\n",
       "      <th>Авто</th>\n",
       "      <td>44744</td>\n",
       "      <td>2</td>\n",
       "      <td>Не указано</td>\n",
       "      <td>32268</td>\n",
       "    </tr>\n",
       "  </tbody>\n",
       "</table>\n",
       "</div>"
      ],
      "text/plain": [
       "                                 count unique  \\\n",
       "Пол, возраст                     44744  16003   \n",
       "ЗП                               44744    690   \n",
       "Ищет работу на должность:        44744  14929   \n",
       "Город, переезд, командировки     44744  10063   \n",
       "Занятость                        44744     38   \n",
       "График                           44744     47   \n",
       "Опыт работы                      44576  44413   \n",
       "Последнее/нынешнее место работы  44743  30214   \n",
       "Последняя/нынешняя должность     44742  16927   \n",
       "Образование и ВУЗ                44744  40148   \n",
       "Обновление резюме                44744  18838   \n",
       "Авто                             44744      2   \n",
       "\n",
       "                                                                               top  \\\n",
       "Пол, возраст                         Мужчина ,  32 года , родился 17 сентября 1986   \n",
       "ЗП                                                                      50000 руб.   \n",
       "Ищет работу на должность:                                  Системный администратор   \n",
       "Город, переезд, командировки     Москва , не готов к переезду , не готов к кома...   \n",
       "Занятость                                                         полная занятость   \n",
       "График                                                                 полный день   \n",
       "Опыт работы                      Опыт работы 10 лет 8 месяцев  Апрель 2018 — по...   \n",
       "Последнее/нынешнее место работы  Индивидуальное предпринимательство / частная п...   \n",
       "Последняя/нынешняя должность                               Системный администратор   \n",
       "Образование и ВУЗ                Высшее образование 2014  Московский технически...   \n",
       "Обновление резюме                                                 07.05.2019 09:50   \n",
       "Авто                                                                    Не указано   \n",
       "\n",
       "                                  freq  \n",
       "Пол, возраст                        18  \n",
       "ЗП                                4064  \n",
       "Ищет работу на должность:         3099  \n",
       "Город, переезд, командировки      1261  \n",
       "Занятость                        30026  \n",
       "График                           22727  \n",
       "Опыт работы                          3  \n",
       "Последнее/нынешнее место работы    935  \n",
       "Последняя/нынешняя должность      2062  \n",
       "Образование и ВУЗ                    4  \n",
       "Обновление резюме                   25  \n",
       "Авто                             32268  "
      ]
     },
     "execution_count": 100,
     "metadata": {},
     "output_type": "execute_result"
    }
   ],
   "source": [
    "hh_df.describe().T"
   ]
  },
  {
   "cell_type": "markdown",
   "id": "8d62a9f3-f64e-4fe7-bdac-c4dffa16155e",
   "metadata": {},
   "source": [
    "# Преобразование данных"
   ]
  },
  {
   "cell_type": "markdown",
   "id": "93053d3d-b284-481a-9cf7-012d7014c0e0",
   "metadata": {},
   "source": [
    "1. Начнем с простого - с признака **\"Образование и ВУЗ\"**. Его текущий формат это: **<Уровень образования год выпуска ВУЗ специальность...>**. Например:\n",
    "* Высшее образование 2016 Московский авиационный институт (национальный исследовательский университет)...\n",
    "* Неоконченное высшее образование 2000  Балтийская государственная академия рыбопромыслового флота…\n",
    "Нас будет интересовать только уровень образования.\n",
    "\n",
    "Создайте с помощью функции-преобразования новый признак **\"Образование\"**, который должен иметь 4 категории: \"высшее\", \"неоконченное высшее\", \"среднее специальное\" и \"среднее\".\n",
    "\n",
    "Выполните преобразование, ответьте на контрольные вопросы и удалите признак \"Образование и ВУЗ\".\n",
    "\n",
    "Совет: обратите внимание на структуру текста в столбце **\"Образование и ВУЗ\"**. Гарантируется, что текущий уровень образования соискателя всегда находится в первых 2ух слов и начинается с заглавной буквы. Воспользуйтесь этим.\n",
    "\n",
    "*Совет: проверяйте полученные категории, например, с помощью метода unique()*\n"
   ]
  },
  {
   "cell_type": "code",
   "execution_count": 101,
   "id": "3f069da6-fdc9-4ae7-b514-fafe2675efd3",
   "metadata": {},
   "outputs": [],
   "source": [
    "def get_education_level(in_str: str) -> str:\n",
    "    \"\"\"Функция находит по маркеру в информации об образовании уровень образования\n",
    "    и возвращает уровень образования\n",
    "\n",
    "    Args:\n",
    "        in_str (str): Информация об образовании рекрутера\n",
    "\n",
    "    Returns:\n",
    "        str: уровень образования рекрутера из списка [среднее, среднее специальное, неоконченное высшее, высшее]\n",
    "    \"\"\"\n",
    "    \n",
    "    in_str = in_str.lower().split(' ')[:3]\n",
    "    in_str = ' '.join(in_str)\n",
    "    \n",
    "    if 'среднее' in in_str and 'специальное' in in_str:\n",
    "        return('среднее специальное')\n",
    "    \n",
    "    elif 'неоконченное' in in_str and 'высшее' in in_str:\n",
    "        return('неоконченное высшее')\n",
    "    \n",
    "    elif 'высшее' in in_str:\n",
    "        return('высшее') \n",
    "    \n",
    "    elif 'среднее' in in_str:\n",
    "        return('среднее')"
   ]
  },
  {
   "cell_type": "code",
   "execution_count": 102,
   "id": "62520558",
   "metadata": {},
   "outputs": [],
   "source": [
    "hh_df['Образование'] = hh_df['Образование и ВУЗ'].apply(get_education_level)"
   ]
  },
  {
   "cell_type": "code",
   "execution_count": 103,
   "id": "bd51912b",
   "metadata": {},
   "outputs": [
    {
     "data": {
      "text/plain": [
       "высшее                 33863\n",
       "среднее специальное     5765\n",
       "неоконченное высшее     4557\n",
       "среднее                  559\n",
       "Name: Образование, dtype: int64"
      ]
     },
     "execution_count": 103,
     "metadata": {},
     "output_type": "execute_result"
    }
   ],
   "source": [
    "hh_df['Образование'].value_counts()"
   ]
  },
  {
   "cell_type": "code",
   "execution_count": 104,
   "id": "1f2e2f68",
   "metadata": {},
   "outputs": [
    {
     "name": "stdout",
     "output_type": "stream",
     "text": [
      "<class 'pandas.core.frame.DataFrame'>\n",
      "RangeIndex: 44744 entries, 0 to 44743\n",
      "Data columns (total 12 columns):\n",
      " #   Column                           Non-Null Count  Dtype \n",
      "---  ------                           --------------  ----- \n",
      " 0   Пол, возраст                     44744 non-null  object\n",
      " 1   ЗП                               44744 non-null  object\n",
      " 2   Ищет работу на должность:        44744 non-null  object\n",
      " 3   Город, переезд, командировки     44744 non-null  object\n",
      " 4   Занятость                        44744 non-null  object\n",
      " 5   График                           44744 non-null  object\n",
      " 6   Опыт работы                      44576 non-null  object\n",
      " 7   Последнее/нынешнее место работы  44743 non-null  object\n",
      " 8   Последняя/нынешняя должность     44742 non-null  object\n",
      " 9   Обновление резюме                44744 non-null  object\n",
      " 10  Авто                             44744 non-null  object\n",
      " 11  Образование                      44744 non-null  object\n",
      "dtypes: object(12)\n",
      "memory usage: 4.1+ MB\n"
     ]
    }
   ],
   "source": [
    "hh_df = hh_df.drop('Образование и ВУЗ', axis=1)\n",
    "hh_df.info()"
   ]
  },
  {
   "cell_type": "code",
   "execution_count": 105,
   "id": "a10b60fc",
   "metadata": {},
   "outputs": [
    {
     "data": {
      "image/png": "[encoded data removed]",
      "text/plain": [
       "<Figure size 2160x720 with 1 Axes>"
      ]
     },
     "metadata": {
      "needs_background": "light"
     },
     "output_type": "display_data"
    }
   ],
   "source": [
    "fig, ax = plt.subplots(nrows=1, ncols=1, figsize=(30,10))\n",
    "\n",
    "educ_level_fig = sns.countplot(data=hh_df,\n",
    "                               x='Образование',\n",
    "                               ax=ax)\n",
    "educ_level_fig.set(xlabel='Уровень образования',\n",
    "                   ylabel='Количество человек',\n",
    "                   title='График уровня образования рекрутеров',\n",
    "                  )\n",
    "\n",
    "plt.show()"
   ]
  },
  {
   "cell_type": "markdown",
   "id": "b17c7c8c",
   "metadata": {},
   "source": [
    "## ---------------------------- \n",
    "## Как мы видим преобладают рекрутеры c высшем образованием. При этом количество рекрутеров со среднее специальным образованем преобладает над количеством рекрутеров с неоконченным высшем образованием    \n",
    "## ---------------------------- "
   ]
  },
  {
   "cell_type": "markdown",
   "id": "4266f0b6-1646-492a-88b4-2f6a46502135",
   "metadata": {},
   "source": [
    "2. Теперь нас интересует столбец **\"Пол/возраст\"**. Сейчас он представлен в формате **<Пол , возраст , дата рождения >**. Например:\n",
    "* Мужчина , 39 лет , родился 27 ноября 1979 \n",
    "* Женщина , 21 год , родилась 13 января 2000\n",
    "Как вы понимаете, нам необходимо выделить каждый параметр в отдельный столбец.\n",
    "\n",
    "Создайте два новых признака **\"Пол\"** и **\"Возраст\"**. При этом важно учесть:\n",
    "* Признак пола должен иметь 2 уникальных строковых значения: 'М' - мужчина, 'Ж' - женщина. \n",
    "* Признак возраста должен быть представлен целыми числами.\n",
    "\n",
    "Выполните преобразование, ответьте на контрольные вопросы и удалите признак **\"Пол, возраст\"** из таблицы.\n",
    "\n",
    "*Совет: обратите внимание на структуру текста в столбце, в части на то, как разделены параметры пола, возраста и даты рождения между собой - символом ' , '. \n",
    "Гарантируется, что структура одинакова для всех строк в таблице. Вы можете воспользоваться этим.*\n"
   ]
  },
  {
   "cell_type": "code",
   "execution_count": 106,
   "id": "0c44b350-72eb-4d65-8b54-a1fc449ba9fd",
   "metadata": {},
   "outputs": [],
   "source": [
    "def get_age(in_str: str) -> int:\n",
    "    \"\"\"Функция примимает информацию о рекрутере и возвращает его возвраст\n",
    "\n",
    "    Args:\n",
    "        in_str (str): Инфорамция о рекрутере в формате Пол, возвраст, дата рождения\n",
    "\n",
    "    Returns:\n",
    "        int: Возвраст клиента, лет\n",
    "    \"\"\"\n",
    "   \n",
    "    in_str = in_str.lower().split(',')[1].split(' ')[2]\n",
    "\n",
    "    return int(in_str)"
   ]
  },
  {
   "cell_type": "code",
   "execution_count": 107,
   "id": "ee11e49c",
   "metadata": {},
   "outputs": [],
   "source": [
    "def get_gender(in_str: str) -> str:\n",
    "    \"\"\"Функция примимает информацию о рекрутере и возвращает его возвраст\n",
    "\n",
    "    Args:\n",
    "        in_str (str): Инфорамция о рекрутере в формате Пол, возвраст, дата рождения\n",
    "\n",
    "    Returns:\n",
    "        str: Пол рекрутера\n",
    "    \"\"\"\n",
    "    \n",
    "    in_str = in_str.lower().split(',')[0]\n",
    "    \n",
    "    if 'мужчина ' == in_str:\n",
    "        return 'М'\n",
    "    \n",
    "    elif 'женщина ' == in_str:\n",
    "        return 'Ж'"
   ]
  },
  {
   "cell_type": "code",
   "execution_count": 108,
   "id": "7bb637cf",
   "metadata": {},
   "outputs": [
    {
     "data": {
      "text/plain": [
       "М    36211\n",
       "Ж     8533\n",
       "Name: Пол, dtype: int64"
      ]
     },
     "execution_count": 108,
     "metadata": {},
     "output_type": "execute_result"
    }
   ],
   "source": [
    "hh_df['Пол'] = hh_df['Пол, возраст'].apply(get_gender)\n",
    "hh_df['Пол'].value_counts()"
   ]
  },
  {
   "cell_type": "code",
   "execution_count": 109,
   "id": "a6f69df3",
   "metadata": {},
   "outputs": [
    {
     "data": {
      "text/plain": [
       "count    44744.000000\n",
       "mean        32.196741\n",
       "std          7.929800\n",
       "min         14.000000\n",
       "25%         27.000000\n",
       "50%         31.000000\n",
       "75%         36.000000\n",
       "max        100.000000\n",
       "Name: Возраст, dtype: float64"
      ]
     },
     "execution_count": 109,
     "metadata": {},
     "output_type": "execute_result"
    }
   ],
   "source": [
    "hh_df['Возраст'] = hh_df['Пол, возраст'].apply(get_age)\n",
    "hh_df['Возраст'].describe()"
   ]
  },
  {
   "cell_type": "code",
   "execution_count": 110,
   "id": "eec6dd15",
   "metadata": {},
   "outputs": [
    {
     "name": "stdout",
     "output_type": "stream",
     "text": [
      "<class 'pandas.core.frame.DataFrame'>\n",
      "RangeIndex: 44744 entries, 0 to 44743\n",
      "Data columns (total 13 columns):\n",
      " #   Column                           Non-Null Count  Dtype \n",
      "---  ------                           --------------  ----- \n",
      " 0   ЗП                               44744 non-null  object\n",
      " 1   Ищет работу на должность:        44744 non-null  object\n",
      " 2   Город, переезд, командировки     44744 non-null  object\n",
      " 3   Занятость                        44744 non-null  object\n",
      " 4   График                           44744 non-null  object\n",
      " 5   Опыт работы                      44576 non-null  object\n",
      " 6   Последнее/нынешнее место работы  44743 non-null  object\n",
      " 7   Последняя/нынешняя должность     44742 non-null  object\n",
      " 8   Обновление резюме                44744 non-null  object\n",
      " 9   Авто                             44744 non-null  object\n",
      " 10  Образование                      44744 non-null  object\n",
      " 11  Пол                              44744 non-null  object\n",
      " 12  Возраст                          44744 non-null  int64 \n",
      "dtypes: int64(1), object(12)\n",
      "memory usage: 4.4+ MB\n"
     ]
    }
   ],
   "source": [
    "hh_df = hh_df.drop('Пол, возраст', axis=1)\n",
    "hh_df.info()"
   ]
  },
  {
   "cell_type": "code",
   "execution_count": 111,
   "id": "989a323a",
   "metadata": {},
   "outputs": [
    {
     "data": {
      "image/png": "[encoded data removed]",
      "text/plain": [
       "<Figure size 2160x720 with 1 Axes>"
      ]
     },
     "metadata": {
      "needs_background": "light"
     },
     "output_type": "display_data"
    }
   ],
   "source": [
    "male_df = hh_df[hh_df['Пол'] == 'М']\n",
    "female_df = hh_df[hh_df['Пол'] == 'Ж']\n",
    "\n",
    "fig, ax = plt.subplots(nrows=1, ncols=1, figsize=(30,10))\n",
    "\n",
    "balance_hist = sns.histplot(male_df,\n",
    "                            x='Возраст',\n",
    "                            kde=True,\n",
    "                            ax=ax,\n",
    "                            label='Мужчины');\n",
    "\n",
    "balance_hist.set(xlabel='Распределение возвраста рекрутеров',\n",
    "                 ylabel='Количество рекрутеров',\n",
    "                 title='График распределения возвраста рекрутеров в разрезе гендера',\n",
    "                )\n",
    "\n",
    "balance_hist = sns.histplot(female_df,\n",
    "                            x='Возраст',\n",
    "                            kde=True,\n",
    "                            ax=ax,\n",
    "                            color='red',\n",
    "                            label='Женщины');\n",
    "\n",
    "plt.legend()\n",
    "plt.show()"
   ]
  },
  {
   "cell_type": "markdown",
   "id": "175252ea",
   "metadata": {},
   "source": [
    "## ---------------------------- \n",
    "## Как мы видим преобладают рекрутеры мужского пола. Возраст основных рекрутеров 25-35 при это возраст у обоих полов примерно одинаковый   \n",
    "## ---------------------------- "
   ]
  },
  {
   "cell_type": "code",
   "execution_count": 112,
   "id": "2edd2fc1",
   "metadata": {},
   "outputs": [
    {
     "data": {
      "application/vnd.plotly.v1+json": {
       "config": {
        "plotlyServerURL": "https://plot.ly"
       },
       "data": [
        {
         "domain": {
          "x": [
           0,
           1
          ],
          "y": [
           0,
           1
          ]
         },
         "hovertemplate": "label=%{label}<br>value=%{value}<extra></extra>",
         "labels": [
          "Мужчины",
          "Женщины"
         ],
         "legendgroup": "",
         "name": "",
         "opacity": 0.9,
         "pull": [
          0.1,
          0,
          0.03
         ],
         "showlegend": true,
         "textinfo": "percent+label",
         "textposition": "outside",
         "title": {
          "font": {
           "size": 20
          },
          "position": "top center",
          "text": "Соотношение количества резюме в зависимости от пола"
         },
         "type": "pie",
         "values": [
          36211,
          8533
         ]
        }
       ],
       "layout": {
        "legend": {
         "tracegroupgap": 0
        },
        "margin": {
         "t": 60
        },
        "template": {
         "data": {
          "bar": [
           {
            "error_x": {
             "color": "#2a3f5f"
            },
            "error_y": {
             "color": "#2a3f5f"
            },
            "marker": {
             "line": {
              "color": "#E5ECF6",
              "width": 0.5
             },
             "pattern": {
              "fillmode": "overlay",
              "size": 10,
              "solidity": 0.2
             }
            },
            "type": "bar"
           }
          ],
          "barpolar": [
           {
            "marker": {
             "line": {
              "color": "#E5ECF6",
              "width": 0.5
             },
             "pattern": {
              "fillmode": "overlay",
              "size": 10,
              "solidity": 0.2
             }
            },
            "type": "barpolar"
           }
          ],
          "carpet": [
           {
            "aaxis": {
             "endlinecolor": "#2a3f5f",
             "gridcolor": "white",
             "linecolor": "white",
             "minorgridcolor": "white",
             "startlinecolor": "#2a3f5f"
            },
            "baxis": {
             "endlinecolor": "#2a3f5f",
             "gridcolor": "white",
             "linecolor": "white",
             "minorgridcolor": "white",
             "startlinecolor": "#2a3f5f"
            },
            "type": "carpet"
           }
          ],
          "choropleth": [
           {
            "colorbar": {
             "outlinewidth": 0,
             "ticks": ""
            },
            "type": "choropleth"
           }
          ],
          "contour": [
           {
            "colorbar": {
             "outlinewidth": 0,
             "ticks": ""
            },
            "colorscale": [
             [
              0,
              "#0d0887"
             ],
             [
              0.1111111111111111,
              "#46039f"
             ],
             [
              0.2222222222222222,
              "#7201a8"
             ],
             [
              0.3333333333333333,
              "#9c179e"
             ],
             [
              0.4444444444444444,
              "#bd3786"
             ],
             [
              0.5555555555555556,
              "#d8576b"
             ],
             [
              0.6666666666666666,
              "#ed7953"
             ],
             [
              0.7777777777777778,
              "#fb9f3a"
             ],
             [
              0.8888888888888888,
              "#fdca26"
             ],
             [
              1,
              "#f0f921"
             ]
            ],
            "type": "contour"
           }
          ],
          "contourcarpet": [
           {
            "colorbar": {
             "outlinewidth": 0,
             "ticks": ""
            },
            "type": "contourcarpet"
           }
          ],
          "heatmap": [
           {
            "colorbar": {
             "outlinewidth": 0,
             "ticks": ""
            },
            "colorscale": [
             [
              0,
              "#0d0887"
             ],
             [
              0.1111111111111111,
              "#46039f"
             ],
             [
              0.2222222222222222,
              "#7201a8"
             ],
             [
              0.3333333333333333,
              "#9c179e"
             ],
             [
              0.4444444444444444,
              "#bd3786"
             ],
             [
              0.5555555555555556,
              "#d8576b"
             ],
             [
              0.6666666666666666,
              "#ed7953"
             ],
             [
              0.7777777777777778,
              "#fb9f3a"
             ],
             [
              0.8888888888888888,
              "#fdca26"
             ],
             [
              1,
              "#f0f921"
             ]
            ],
            "type": "heatmap"
           }
          ],
          "heatmapgl": [
           {
            "colorbar": {
             "outlinewidth": 0,
             "ticks": ""
            },
            "colorscale": [
             [
              0,
              "#0d0887"
             ],
             [
              0.1111111111111111,
              "#46039f"
             ],
             [
              0.2222222222222222,
              "#7201a8"
             ],
             [
              0.3333333333333333,
              "#9c179e"
             ],
             [
              0.4444444444444444,
              "#bd3786"
             ],
             [
              0.5555555555555556,
              "#d8576b"
             ],
             [
              0.6666666666666666,
              "#ed7953"
             ],
             [
              0.7777777777777778,
              "#fb9f3a"
             ],
             [
              0.8888888888888888,
              "#fdca26"
             ],
             [
              1,
              "#f0f921"
             ]
            ],
            "type": "heatmapgl"
           }
          ],
          "histogram": [
           {
            "marker": {
             "pattern": {
              "fillmode": "overlay",
              "size": 10,
              "solidity": 0.2
             }
            },
            "type": "histogram"
           }
          ],
          "histogram2d": [
           {
            "colorbar": {
             "outlinewidth": 0,
             "ticks": ""
            },
            "colorscale": [
             [
              0,
              "#0d0887"
             ],
             [
              0.1111111111111111,
              "#46039f"
             ],
             [
              0.2222222222222222,
              "#7201a8"
             ],
             [
              0.3333333333333333,
              "#9c179e"
             ],
             [
              0.4444444444444444,
              "#bd3786"
             ],
             [
              0.5555555555555556,
              "#d8576b"
             ],
             [
              0.6666666666666666,
              "#ed7953"
             ],
             [
              0.7777777777777778,
              "#fb9f3a"
             ],
             [
              0.8888888888888888,
              "#fdca26"
             ],
             [
              1,
              "#f0f921"
             ]
            ],
            "type": "histogram2d"
           }
          ],
          "histogram2dcontour": [
           {
            "colorbar": {
             "outlinewidth": 0,
             "ticks": ""
            },
            "colorscale": [
             [
              0,
              "#0d0887"
             ],
             [
              0.1111111111111111,
              "#46039f"
             ],
             [
              0.2222222222222222,
              "#7201a8"
             ],
             [
              0.3333333333333333,
              "#9c179e"
             ],
             [
              0.4444444444444444,
              "#bd3786"
             ],
             [
              0.5555555555555556,
              "#d8576b"
             ],
             [
              0.6666666666666666,
              "#ed7953"
             ],
             [
              0.7777777777777778,
              "#fb9f3a"
             ],
             [
              0.8888888888888888,
              "#fdca26"
             ],
             [
              1,
              "#f0f921"
             ]
            ],
            "type": "histogram2dcontour"
           }
          ],
          "mesh3d": [
           {
            "colorbar": {
             "outlinewidth": 0,
             "ticks": ""
            },
            "type": "mesh3d"
           }
          ],
          "parcoords": [
           {
            "line": {
             "colorbar": {
              "outlinewidth": 0,
              "ticks": ""
             }
            },
            "type": "parcoords"
           }
          ],
          "pie": [
           {
            "automargin": true,
            "type": "pie"
           }
          ],
          "scatter": [
           {
            "marker": {
             "colorbar": {
              "outlinewidth": 0,
              "ticks": ""
             }
            },
            "type": "scatter"
           }
          ],
          "scatter3d": [
           {
            "line": {
             "colorbar": {
              "outlinewidth": 0,
              "ticks": ""
             }
            },
            "marker": {
             "colorbar": {
              "outlinewidth": 0,
              "ticks": ""
             }
            },
            "type": "scatter3d"
           }
          ],
          "scattercarpet": [
           {
            "marker": {
             "colorbar": {
              "outlinewidth": 0,
              "ticks": ""
             }
            },
            "type": "scattercarpet"
           }
          ],
          "scattergeo": [
           {
            "marker": {
             "colorbar": {
              "outlinewidth": 0,
              "ticks": ""
             }
            },
            "type": "scattergeo"
           }
          ],
          "scattergl": [
           {
            "marker": {
             "colorbar": {
              "outlinewidth": 0,
              "ticks": ""
             }
            },
            "type": "scattergl"
           }
          ],
          "scattermapbox": [
           {
            "marker": {
             "colorbar": {
              "outlinewidth": 0,
              "ticks": ""
             }
            },
            "type": "scattermapbox"
           }
          ],
          "scatterpolar": [
           {
            "marker": {
             "colorbar": {
              "outlinewidth": 0,
              "ticks": ""
             }
            },
            "type": "scatterpolar"
           }
          ],
          "scatterpolargl": [
           {
            "marker": {
             "colorbar": {
              "outlinewidth": 0,
              "ticks": ""
             }
            },
            "type": "scatterpolargl"
           }
          ],
          "scatterternary": [
           {
            "marker": {
             "colorbar": {
              "outlinewidth": 0,
              "ticks": ""
             }
            },
            "type": "scatterternary"
           }
          ],
          "surface": [
           {
            "colorbar": {
             "outlinewidth": 0,
             "ticks": ""
            },
            "colorscale": [
             [
              0,
              "#0d0887"
             ],
             [
              0.1111111111111111,
              "#46039f"
             ],
             [
              0.2222222222222222,
              "#7201a8"
             ],
             [
              0.3333333333333333,
              "#9c179e"
             ],
             [
              0.4444444444444444,
              "#bd3786"
             ],
             [
              0.5555555555555556,
              "#d8576b"
             ],
             [
              0.6666666666666666,
              "#ed7953"
             ],
             [
              0.7777777777777778,
              "#fb9f3a"
             ],
             [
              0.8888888888888888,
              "#fdca26"
             ],
             [
              1,
              "#f0f921"
             ]
            ],
            "type": "surface"
           }
          ],
          "table": [
           {
            "cells": {
             "fill": {
              "color": "#EBF0F8"
             },
             "line": {
              "color": "white"
             }
            },
            "header": {
             "fill": {
              "color": "#C8D4E3"
             },
             "line": {
              "color": "white"
             }
            },
            "type": "table"
           }
          ]
         },
         "layout": {
          "annotationdefaults": {
           "arrowcolor": "#2a3f5f",
           "arrowhead": 0,
           "arrowwidth": 1
          },
          "autotypenumbers": "strict",
          "coloraxis": {
           "colorbar": {
            "outlinewidth": 0,
            "ticks": ""
           }
          },
          "colorscale": {
           "diverging": [
            [
             0,
             "#8e0152"
            ],
            [
             0.1,
             "#c51b7d"
            ],
            [
             0.2,
             "#de77ae"
            ],
            [
             0.3,
             "#f1b6da"
            ],
            [
             0.4,
             "#fde0ef"
            ],
            [
             0.5,
             "#f7f7f7"
            ],
            [
             0.6,
             "#e6f5d0"
            ],
            [
             0.7,
             "#b8e186"
            ],
            [
             0.8,
             "#7fbc41"
            ],
            [
             0.9,
             "#4d9221"
            ],
            [
             1,
             "#276419"
            ]
           ],
           "sequential": [
            [
             0,
             "#0d0887"
            ],
            [
             0.1111111111111111,
             "#46039f"
            ],
            [
             0.2222222222222222,
             "#7201a8"
            ],
            [
             0.3333333333333333,
             "#9c179e"
            ],
            [
             0.4444444444444444,
             "#bd3786"
            ],
            [
             0.5555555555555556,
             "#d8576b"
            ],
            [
             0.6666666666666666,
             "#ed7953"
            ],
            [
             0.7777777777777778,
             "#fb9f3a"
            ],
            [
             0.8888888888888888,
             "#fdca26"
            ],
            [
             1,
             "#f0f921"
            ]
           ],
           "sequentialminus": [
            [
             0,
             "#0d0887"
            ],
            [
             0.1111111111111111,
             "#46039f"
            ],
            [
             0.2222222222222222,
             "#7201a8"
            ],
            [
             0.3333333333333333,
             "#9c179e"
            ],
            [
             0.4444444444444444,
             "#bd3786"
            ],
            [
             0.5555555555555556,
             "#d8576b"
            ],
            [
             0.6666666666666666,
             "#ed7953"
            ],
            [
             0.7777777777777778,
             "#fb9f3a"
            ],
            [
             0.8888888888888888,
             "#fdca26"
            ],
            [
             1,
             "#f0f921"
            ]
           ]
          },
          "colorway": [
           "#636efa",
           "#EF553B",
           "#00cc96",
           "#ab63fa",
           "#FFA15A",
           "#19d3f3",
           "#FF6692",
           "#B6E880",
           "#FF97FF",
           "#FECB52"
          ],
          "font": {
           "color": "#2a3f5f"
          },
          "geo": {
           "bgcolor": "white",
           "lakecolor": "white",
           "landcolor": "#E5ECF6",
           "showlakes": true,
           "showland": true,
           "subunitcolor": "white"
          },
          "hoverlabel": {
           "align": "left"
          },
          "hovermode": "closest",
          "mapbox": {
           "style": "light"
          },
          "paper_bgcolor": "white",
          "plot_bgcolor": "#E5ECF6",
          "polar": {
           "angularaxis": {
            "gridcolor": "white",
            "linecolor": "white",
            "ticks": ""
           },
           "bgcolor": "#E5ECF6",
           "radialaxis": {
            "gridcolor": "white",
            "linecolor": "white",
            "ticks": ""
           }
          },
          "scene": {
           "xaxis": {
            "backgroundcolor": "#E5ECF6",
            "gridcolor": "white",
            "gridwidth": 2,
            "linecolor": "white",
            "showbackground": true,
            "ticks": "",
            "zerolinecolor": "white"
           },
           "yaxis": {
            "backgroundcolor": "#E5ECF6",
            "gridcolor": "white",
            "gridwidth": 2,
            "linecolor": "white",
            "showbackground": true,
            "ticks": "",
            "zerolinecolor": "white"
           },
           "zaxis": {
            "backgroundcolor": "#E5ECF6",
            "gridcolor": "white",
            "gridwidth": 2,
            "linecolor": "white",
            "showbackground": true,
            "ticks": "",
            "zerolinecolor": "white"
           }
          },
          "shapedefaults": {
           "line": {
            "color": "#2a3f5f"
           }
          },
          "ternary": {
           "aaxis": {
            "gridcolor": "white",
            "linecolor": "white",
            "ticks": ""
           },
           "baxis": {
            "gridcolor": "white",
            "linecolor": "white",
            "ticks": ""
           },
           "bgcolor": "#E5ECF6",
           "caxis": {
            "gridcolor": "white",
            "linecolor": "white",
            "ticks": ""
           }
          },
          "title": {
           "x": 0.05
          },
          "xaxis": {
           "automargin": true,
           "gridcolor": "white",
           "linecolor": "white",
           "ticks": "",
           "title": {
            "standoff": 15
           },
           "zerolinecolor": "white",
           "zerolinewidth": 2
          },
          "yaxis": {
           "automargin": true,
           "gridcolor": "white",
           "linecolor": "white",
           "ticks": "",
           "title": {
            "standoff": 15
           },
           "zerolinecolor": "white",
           "zerolinewidth": 2
          }
         }
        },
        "width": 1000
       }
      }
     },
     "metadata": {},
     "output_type": "display_data"
    }
   ],
   "source": [
    "gender_resume = hh_df['Пол'].value_counts()\n",
    "resume_fig = px.pie(values=gender_resume,\n",
    "                    names=['Мужчины', 'Женщины'],\n",
    "                    width=1000)\n",
    "\n",
    "resume_fig.update_traces(textposition='outside',\n",
    "                         textinfo='percent+label',\n",
    "                         pull=[0.1, 0, 0.03],\n",
    "                         title=dict({'font.size': 20,\n",
    "                                     'position': 'top center',\n",
    "                                     'text': 'Соотношение количества резюме в зависимости от пола'}),\n",
    "                         opacity=0.9)\n",
    "resume_fig.show()"
   ]
  },
  {
   "cell_type": "markdown",
   "id": "635c4d5d-f323-4c66-b428-50a088120aa0",
   "metadata": {},
   "source": [
    "3. Следующим этапом преобразуем признак **\"Опыт работы\"**. Его текущий формат это: **<Опыт работы: n лет m месяцев, периоды работы в различных компаниях…>**. \n",
    "\n",
    "Из столбца нам необходимо выделить общий опыт работы соискателя в месяцах, новый признак назовем \"Опыт работы (месяц)\"\n",
    "\n",
    "Для начала обсудим условия решения задачи:\n",
    "* Во-первых, в данном признаке есть пропуски. Условимся, что если мы встречаем пропуск, оставляем его как есть (функция-преобразование возвращает NaN)\n",
    "* Во-вторых, нас не интересует информация, которая описывается после указания опыта работы (периоды работы в различных компаниях)\n",
    "* В-третьих, у нас есть проблема: опыт работы может быть представлен только в годах или только месяцах. Например, можно встретить следующие варианты:\n",
    "    * Опыт работы 3 года 2 месяца…\n",
    "    * Опыт работы 4 года…\n",
    "    * Опыт работы 11 месяцев…\n",
    "Учитывайте эту особенность в вашем коде\n",
    "\n",
    "В результате преобразования у вас должен получиться столбец, содержащий информацию о том, сколько месяцев проработал соискатель.\n",
    "Выполните преобразование, ответьте на контрольные вопросы и удалите столбец **\"Опыт работы\"** из таблицы.\n"
   ]
  },
  {
   "cell_type": "code",
   "execution_count": 113,
   "id": "603cdbe4-0ec3-4106-8eaf-c73fcdd29165",
   "metadata": {},
   "outputs": [],
   "source": [
    "def get_work_exp(in_str: str) -> int:\n",
    "    \"\"\"Функция принимает информацию об опыте работы рекрутера и возвращает суммарный опыт работы в месяцах\n",
    "\n",
    "    Args:\n",
    "        in_str (str): Информация об опыте работы рекрутера\n",
    "\n",
    "    Returns:\n",
    "        int: Опыт работы в месяцах\n",
    "    \"\"\"\n",
    "    \n",
    "    year_mask = ['год', 'года', 'лет']\n",
    "    month_mask = ['месяц', 'месяца', 'месяцев']\n",
    "    year_exp = 0\n",
    "    month_exp = 0\n",
    "\n",
    "    if in_str is np.nan:\n",
    "        return None\n",
    "  \n",
    "    else:\n",
    "        in_str = in_str.lower().split(' ')[:6]\n",
    "        for ind, val in enumerate(in_str):\n",
    "            if val in year_mask:\n",
    "                year_exp = int(in_str[ind - 1])\n",
    "                \n",
    "            elif val in month_mask:\n",
    "                month_exp = int(in_str[ind - 1])\n",
    "    \n",
    "    full_exp = year_exp * 12 + month_exp\n",
    "    \n",
    "    return full_exp  \n",
    "                "
   ]
  },
  {
   "cell_type": "code",
   "execution_count": 114,
   "id": "640e9ff4",
   "metadata": {},
   "outputs": [],
   "source": [
    "hh_df['Опыт работы (месяц)'] = hh_df['Опыт работы'].apply(get_work_exp)"
   ]
  },
  {
   "cell_type": "code",
   "execution_count": 115,
   "id": "bdbdaf51",
   "metadata": {},
   "outputs": [
    {
     "name": "stdout",
     "output_type": "stream",
     "text": [
      "<class 'pandas.core.frame.DataFrame'>\n",
      "RangeIndex: 44744 entries, 0 to 44743\n",
      "Data columns (total 13 columns):\n",
      " #   Column                           Non-Null Count  Dtype  \n",
      "---  ------                           --------------  -----  \n",
      " 0   ЗП                               44744 non-null  object \n",
      " 1   Ищет работу на должность:        44744 non-null  object \n",
      " 2   Город, переезд, командировки     44744 non-null  object \n",
      " 3   Занятость                        44744 non-null  object \n",
      " 4   График                           44744 non-null  object \n",
      " 5   Последнее/нынешнее место работы  44743 non-null  object \n",
      " 6   Последняя/нынешняя должность     44742 non-null  object \n",
      " 7   Обновление резюме                44744 non-null  object \n",
      " 8   Авто                             44744 non-null  object \n",
      " 9   Образование                      44744 non-null  object \n",
      " 10  Пол                              44744 non-null  object \n",
      " 11  Возраст                          44744 non-null  int64  \n",
      " 12  Опыт работы (месяц)              44576 non-null  float64\n",
      "dtypes: float64(1), int64(1), object(11)\n",
      "memory usage: 4.4+ MB\n"
     ]
    }
   ],
   "source": [
    "hh_df = hh_df.drop('Опыт работы', axis=1)\n",
    "hh_df.info()"
   ]
  },
  {
   "cell_type": "markdown",
   "id": "f3fdaec9-5fd3-4260-9cf5-1d7406b628a5",
   "metadata": {},
   "source": [
    "4. Хорошо идем! Следующий на очереди признак \"Город, переезд, командировки\". Информация в нем представлена в следующем виде: **<Город , (метро) , готовность к переезду (города для переезда) , готовность к командировкам>**. В скобках указаны необязательные параметры строки. Например, можно встретить следующие варианты:\n",
    "\n",
    "* Москва , не готов к переезду , готов к командировкам\n",
    "* Москва , м. Беломорская , не готов к переезду, не готов к командировкам\n",
    "* Воронеж , готов к переезду (Сочи, Москва, Санкт-Петербург) , готов к командировкам\n",
    "\n",
    "Создадим отдельные признаки **\"Город\"**, **\"Готовность к переезду\"**, **\"Готовность к командировкам\"**. При этом важно учесть:\n",
    "\n",
    "* Признак **\"Город\"** должен содержать только 4 категории: \"Москва\", \"Санкт-Петербург\" и \"город миллионник\" (их список ниже), остальные обозначьте как \"другие\".\n",
    "\n",
    "    Список городов миллионников:\n",
    "    \n",
    "   <code> million_cities = ['Новосибирск', 'Екатеринбург','Нижний Новгород','Казань', 'Челябинск','Омск', 'Самара', 'Ростов-на-Дону', 'Уфа', 'Красноярск', 'Пермь', 'Воронеж','Волгоград']\n",
    "    </code>\n",
    "    \n",
    "    \n",
    "    Инфорация о метро, рядом с которым проживает соискатель нас не интересует.\n",
    "* Признак **\"Готовность к переезду\"** должен иметь два возможных варианта: True или False. Обратите внимание, что возможны несколько вариантов описания готовности к переезду в признаке \"Город, переезд, командировки\". Например:\n",
    "    * … , готов к переезду , …\n",
    "    * … , не готова к переезду , …\n",
    "    * … , готова к переезду (Москва, Санкт-Петербург, Ростов-на-Дону)\n",
    "    * … , хочу переехать (США) , …\n",
    "    \n",
    "    Нас интересует только сам факт возможности или желания переезда.\n",
    "* Признак **\"Готовность к командировкам\"** должен иметь два возможных варианта: True или False. Обратите внимание, что возможны несколько вариантов описания готовности к командировкам в признаке \"Город, переезд, командировки\". Например:\n",
    "    * … , готов к командировкам , … \n",
    "    * … , готова к редким командировкам , …\n",
    "    * … , не готов к командировкам , …\n",
    "    \n",
    "    Нас интересует только сам факт готовности к командировке.\n",
    "    \n",
    "Выполните преобразования и удалите столбец **\"Город, переезд, командировки\"** из таблицы.\n",
    "\n",
    "*Совет: обратите внимание на то, что структура текста может меняться в зависимости от указания ближайшего метро. Учите это, если будете использовать порядок слов в своей программе.*\n"
   ]
  },
  {
   "cell_type": "code",
   "execution_count": 116,
   "id": "1ea710ec-871b-431e-9462-c7d0fd87011b",
   "metadata": {},
   "outputs": [],
   "source": [
    "def get_city(in_str: str) -> str:\n",
    "    \"\"\"Функция принимает информацию о проживании рекрутера и возвращает город в котором он проживает\n",
    "\n",
    "    Args:\n",
    "        in_str (str): Информация о проживании рекрутера\n",
    "\n",
    "    Returns:\n",
    "        str: Город проживания рекрутера\n",
    "    \"\"\"\n",
    "    \n",
    "    in_str = in_str.split(' ,')[:2]\n",
    "    million_cities = ['Новосибирск', 'Екатеринбург', 'Нижний Новгород', 'Казань', 'Челябинск', 'Омск', \n",
    "                      'Самара', 'Ростов-на-Дону', 'Уфа', 'Красноярск', 'Пермь', 'Воронеж', 'Волгоград' ]\n",
    "    \n",
    "    if 'Москва' in in_str:\n",
    "        \n",
    "        return 'Москва'\n",
    "    \n",
    "    elif 'Санкт-Петербург' in in_str:\n",
    "        return 'Санкт-Петербург'\n",
    "    \n",
    "    elif in_str[0] in million_cities:\n",
    "        return 'город-миллионник'\n",
    "    \n",
    "    else:\n",
    "        return 'другие'"
   ]
  },
  {
   "cell_type": "code",
   "execution_count": 117,
   "id": "a9873f78",
   "metadata": {},
   "outputs": [],
   "source": [
    "hh_df['Город'] = hh_df['Город, переезд, командировки'].apply(get_city)"
   ]
  },
  {
   "cell_type": "code",
   "execution_count": 118,
   "id": "fbd4d73e",
   "metadata": {},
   "outputs": [
    {
     "data": {
      "text/plain": [
       "Москва              16621\n",
       "другие              15854\n",
       "город-миллионник     7332\n",
       "Санкт-Петербург      4937\n",
       "Name: Город, dtype: int64"
      ]
     },
     "execution_count": 118,
     "metadata": {},
     "output_type": "execute_result"
    }
   ],
   "source": [
    "hh_df['Город'].value_counts()"
   ]
  },
  {
   "cell_type": "code",
   "execution_count": 119,
   "id": "d664f284",
   "metadata": {},
   "outputs": [],
   "source": [
    "def get_move(in_str: str) -> bool:\n",
    "    \"\"\"Функция принимает информацию о готовности рекрутера к переезду и возвращает признак готовности\n",
    "\n",
    "    Args:\n",
    "        in_str (str): Информация о готовности рекрутера к переезду\n",
    "\n",
    "    Returns:\n",
    "        bool: Готовность к переезду - True, иначе False\n",
    "    \"\"\"\n",
    "    \n",
    "    in_str = in_str.split(' , ')\n",
    "\n",
    "    if 'м.' in in_str[1].split(' '):\n",
    "        if 'не' in in_str[2].split(' '):\n",
    "            return False\n",
    "        \n",
    "        else:\n",
    "            return True\n",
    "        \n",
    "    else:\n",
    "        if 'не' in in_str[1].split(' '):\n",
    "            return False\n",
    "        \n",
    "        else:\n",
    "            return True"
   ]
  },
  {
   "cell_type": "code",
   "execution_count": 120,
   "id": "5abb3615",
   "metadata": {},
   "outputs": [],
   "source": [
    "hh_df['Готовность к переезду'] = hh_df['Город, переезд, командировки'].apply(get_move)"
   ]
  },
  {
   "cell_type": "code",
   "execution_count": 121,
   "id": "e406d367",
   "metadata": {},
   "outputs": [
    {
     "data": {
      "text/plain": [
       "False    28719\n",
       "True     16025\n",
       "Name: Готовность к переезду, dtype: int64"
      ]
     },
     "execution_count": 121,
     "metadata": {},
     "output_type": "execute_result"
    }
   ],
   "source": [
    "hh_df['Готовность к переезду'].value_counts()"
   ]
  },
  {
   "cell_type": "code",
   "execution_count": 122,
   "id": "47a384ea",
   "metadata": {},
   "outputs": [],
   "source": [
    "def get_trip(in_str: str) -> bool:\n",
    "    \"\"\"Функция принимает информацию о готовности рекрутера к командировкам и возвращает признак готовности\n",
    "\n",
    "    Args:\n",
    "        in_str (str): Информация о готовности рекрутера к командировкам\n",
    "\n",
    "    Returns:\n",
    "        bool: Готовность к командировкам - True, иначе False\n",
    "    \"\"\"\n",
    "    \n",
    "    in_str = in_str.split(' , ')\n",
    "\n",
    "    if 'м.' in in_str[1].split(' '):\n",
    "        if len(in_str) == 3:\n",
    "            return True\n",
    "        \n",
    "        elif 'не' in in_str[3].split(' '):\n",
    "            return False\n",
    "        \n",
    "        else:\n",
    "            return True\n",
    "    \n",
    "    else:\n",
    "        if len(in_str) == 2:\n",
    "            return True\n",
    "        \n",
    "        elif 'не' in in_str[2].split(' '):\n",
    "            return False\n",
    "        \n",
    "        else:\n",
    "            return True"
   ]
  },
  {
   "cell_type": "code",
   "execution_count": 123,
   "id": "c9b8d3b4",
   "metadata": {},
   "outputs": [],
   "source": [
    "hh_df['Готовность к командировкам'] = hh_df['Город, переезд, командировки'].apply(get_trip)"
   ]
  },
  {
   "cell_type": "code",
   "execution_count": 124,
   "id": "458f1390",
   "metadata": {},
   "outputs": [
    {
     "data": {
      "text/plain": [
       "True     31717\n",
       "False    13027\n",
       "Name: Готовность к командировкам, dtype: int64"
      ]
     },
     "execution_count": 124,
     "metadata": {},
     "output_type": "execute_result"
    }
   ],
   "source": [
    "hh_df['Готовность к командировкам'].value_counts()"
   ]
  },
  {
   "cell_type": "code",
   "execution_count": 125,
   "id": "645412fe",
   "metadata": {},
   "outputs": [
    {
     "data": {
      "application/vnd.plotly.v1+json": {
       "config": {
        "plotlyServerURL": "https://plot.ly"
       },
       "data": [
        {
         "domain": {
          "x": [
           0,
           1
          ],
          "y": [
           0,
           1
          ]
         },
         "hovertemplate": "label=%{label}<br>value=%{value}<extra></extra>",
         "labels": [
          "Москва",
          "другие",
          "город-миллионник",
          "Санкт-Петербург"
         ],
         "legendgroup": "",
         "name": "",
         "opacity": 0.9,
         "pull": [
          0,
          0,
          0,
          0.1
         ],
         "showlegend": true,
         "textinfo": "percent+label",
         "textposition": "outside",
         "title": {
          "font": {
           "size": 20
          },
          "position": "top center",
          "text": "Соотношение количества рекрутеров по городам"
         },
         "type": "pie",
         "values": [
          16621,
          15854,
          7332,
          4937
         ]
        }
       ],
       "layout": {
        "legend": {
         "tracegroupgap": 0
        },
        "margin": {
         "t": 60
        },
        "template": {
         "data": {
          "bar": [
           {
            "error_x": {
             "color": "#2a3f5f"
            },
            "error_y": {
             "color": "#2a3f5f"
            },
            "marker": {
             "line": {
              "color": "#E5ECF6",
              "width": 0.5
             },
             "pattern": {
              "fillmode": "overlay",
              "size": 10,
              "solidity": 0.2
             }
            },
            "type": "bar"
           }
          ],
          "barpolar": [
           {
            "marker": {
             "line": {
              "color": "#E5ECF6",
              "width": 0.5
             },
             "pattern": {
              "fillmode": "overlay",
              "size": 10,
              "solidity": 0.2
             }
            },
            "type": "barpolar"
           }
          ],
          "carpet": [
           {
            "aaxis": {
             "endlinecolor": "#2a3f5f",
             "gridcolor": "white",
             "linecolor": "white",
             "minorgridcolor": "white",
             "startlinecolor": "#2a3f5f"
            },
            "baxis": {
             "endlinecolor": "#2a3f5f",
             "gridcolor": "white",
             "linecolor": "white",
             "minorgridcolor": "white",
             "startlinecolor": "#2a3f5f"
            },
            "type": "carpet"
           }
          ],
          "choropleth": [
           {
            "colorbar": {
             "outlinewidth": 0,
             "ticks": ""
            },
            "type": "choropleth"
           }
          ],
          "contour": [
           {
            "colorbar": {
             "outlinewidth": 0,
             "ticks": ""
            },
            "colorscale": [
             [
              0,
              "#0d0887"
             ],
             [
              0.1111111111111111,
              "#46039f"
             ],
             [
              0.2222222222222222,
              "#7201a8"
             ],
             [
              0.3333333333333333,
              "#9c179e"
             ],
             [
              0.4444444444444444,
              "#bd3786"
             ],
             [
              0.5555555555555556,
              "#d8576b"
             ],
             [
              0.6666666666666666,
              "#ed7953"
             ],
             [
              0.7777777777777778,
              "#fb9f3a"
             ],
             [
              0.8888888888888888,
              "#fdca26"
             ],
             [
              1,
              "#f0f921"
             ]
            ],
            "type": "contour"
           }
          ],
          "contourcarpet": [
           {
            "colorbar": {
             "outlinewidth": 0,
             "ticks": ""
            },
            "type": "contourcarpet"
           }
          ],
          "heatmap": [
           {
            "colorbar": {
             "outlinewidth": 0,
             "ticks": ""
            },
            "colorscale": [
             [
              0,
              "#0d0887"
             ],
             [
              0.1111111111111111,
              "#46039f"
             ],
             [
              0.2222222222222222,
              "#7201a8"
             ],
             [
              0.3333333333333333,
              "#9c179e"
             ],
             [
              0.4444444444444444,
              "#bd3786"
             ],
             [
              0.5555555555555556,
              "#d8576b"
             ],
             [
              0.6666666666666666,
              "#ed7953"
             ],
             [
              0.7777777777777778,
              "#fb9f3a"
             ],
             [
              0.8888888888888888,
              "#fdca26"
             ],
             [
              1,
              "#f0f921"
             ]
            ],
            "type": "heatmap"
           }
          ],
          "heatmapgl": [
           {
            "colorbar": {
             "outlinewidth": 0,
             "ticks": ""
            },
            "colorscale": [
             [
              0,
              "#0d0887"
             ],
             [
              0.1111111111111111,
              "#46039f"
             ],
             [
              0.2222222222222222,
              "#7201a8"
             ],
             [
              0.3333333333333333,
              "#9c179e"
             ],
             [
              0.4444444444444444,
              "#bd3786"
             ],
             [
              0.5555555555555556,
              "#d8576b"
             ],
             [
              0.6666666666666666,
              "#ed7953"
             ],
             [
              0.7777777777777778,
              "#fb9f3a"
             ],
             [
              0.8888888888888888,
              "#fdca26"
             ],
             [
              1,
              "#f0f921"
             ]
            ],
            "type": "heatmapgl"
           }
          ],
          "histogram": [
           {
            "marker": {
             "pattern": {
              "fillmode": "overlay",
              "size": 10,
              "solidity": 0.2
             }
            },
            "type": "histogram"
           }
          ],
          "histogram2d": [
           {
            "colorbar": {
             "outlinewidth": 0,
             "ticks": ""
            },
            "colorscale": [
             [
              0,
              "#0d0887"
             ],
             [
              0.1111111111111111,
              "#46039f"
             ],
             [
              0.2222222222222222,
              "#7201a8"
             ],
             [
              0.3333333333333333,
              "#9c179e"
             ],
             [
              0.4444444444444444,
              "#bd3786"
             ],
             [
              0.5555555555555556,
              "#d8576b"
             ],
             [
              0.6666666666666666,
              "#ed7953"
             ],
             [
              0.7777777777777778,
              "#fb9f3a"
             ],
             [
              0.8888888888888888,
              "#fdca26"
             ],
             [
              1,
              "#f0f921"
             ]
            ],
            "type": "histogram2d"
           }
          ],
          "histogram2dcontour": [
           {
            "colorbar": {
             "outlinewidth": 0,
             "ticks": ""
            },
            "colorscale": [
             [
              0,
              "#0d0887"
             ],
             [
              0.1111111111111111,
              "#46039f"
             ],
             [
              0.2222222222222222,
              "#7201a8"
             ],
             [
              0.3333333333333333,
              "#9c179e"
             ],
             [
              0.4444444444444444,
              "#bd3786"
             ],
             [
              0.5555555555555556,
              "#d8576b"
             ],
             [
              0.6666666666666666,
              "#ed7953"
             ],
             [
              0.7777777777777778,
              "#fb9f3a"
             ],
             [
              0.8888888888888888,
              "#fdca26"
             ],
             [
              1,
              "#f0f921"
             ]
            ],
            "type": "histogram2dcontour"
           }
          ],
          "mesh3d": [
           {
            "colorbar": {
             "outlinewidth": 0,
             "ticks": ""
            },
            "type": "mesh3d"
           }
          ],
          "parcoords": [
           {
            "line": {
             "colorbar": {
              "outlinewidth": 0,
              "ticks": ""
             }
            },
            "type": "parcoords"
           }
          ],
          "pie": [
           {
            "automargin": true,
            "type": "pie"
           }
          ],
          "scatter": [
           {
            "marker": {
             "colorbar": {
              "outlinewidth": 0,
              "ticks": ""
             }
            },
            "type": "scatter"
           }
          ],
          "scatter3d": [
           {
            "line": {
             "colorbar": {
              "outlinewidth": 0,
              "ticks": ""
             }
            },
            "marker": {
             "colorbar": {
              "outlinewidth": 0,
              "ticks": ""
             }
            },
            "type": "scatter3d"
           }
          ],
          "scattercarpet": [
           {
            "marker": {
             "colorbar": {
              "outlinewidth": 0,
              "ticks": ""
             }
            },
            "type": "scattercarpet"
           }
          ],
          "scattergeo": [
           {
            "marker": {
             "colorbar": {
              "outlinewidth": 0,
              "ticks": ""
             }
            },
            "type": "scattergeo"
           }
          ],
          "scattergl": [
           {
            "marker": {
             "colorbar": {
              "outlinewidth": 0,
              "ticks": ""
             }
            },
            "type": "scattergl"
           }
          ],
          "scattermapbox": [
           {
            "marker": {
             "colorbar": {
              "outlinewidth": 0,
              "ticks": ""
             }
            },
            "type": "scattermapbox"
           }
          ],
          "scatterpolar": [
           {
            "marker": {
             "colorbar": {
              "outlinewidth": 0,
              "ticks": ""
             }
            },
            "type": "scatterpolar"
           }
          ],
          "scatterpolargl": [
           {
            "marker": {
             "colorbar": {
              "outlinewidth": 0,
              "ticks": ""
             }
            },
            "type": "scatterpolargl"
           }
          ],
          "scatterternary": [
           {
            "marker": {
             "colorbar": {
              "outlinewidth": 0,
              "ticks": ""
             }
            },
            "type": "scatterternary"
           }
          ],
          "surface": [
           {
            "colorbar": {
             "outlinewidth": 0,
             "ticks": ""
            },
            "colorscale": [
             [
              0,
              "#0d0887"
             ],
             [
              0.1111111111111111,
              "#46039f"
             ],
             [
              0.2222222222222222,
              "#7201a8"
             ],
             [
              0.3333333333333333,
              "#9c179e"
             ],
             [
              0.4444444444444444,
              "#bd3786"
             ],
             [
              0.5555555555555556,
              "#d8576b"
             ],
             [
              0.6666666666666666,
              "#ed7953"
             ],
             [
              0.7777777777777778,
              "#fb9f3a"
             ],
             [
              0.8888888888888888,
              "#fdca26"
             ],
             [
              1,
              "#f0f921"
             ]
            ],
            "type": "surface"
           }
          ],
          "table": [
           {
            "cells": {
             "fill": {
              "color": "#EBF0F8"
             },
             "line": {
              "color": "white"
             }
            },
            "header": {
             "fill": {
              "color": "#C8D4E3"
             },
             "line": {
              "color": "white"
             }
            },
            "type": "table"
           }
          ]
         },
         "layout": {
          "annotationdefaults": {
           "arrowcolor": "#2a3f5f",
           "arrowhead": 0,
           "arrowwidth": 1
          },
          "autotypenumbers": "strict",
          "coloraxis": {
           "colorbar": {
            "outlinewidth": 0,
            "ticks": ""
           }
          },
          "colorscale": {
           "diverging": [
            [
             0,
             "#8e0152"
            ],
            [
             0.1,
             "#c51b7d"
            ],
            [
             0.2,
             "#de77ae"
            ],
            [
             0.3,
             "#f1b6da"
            ],
            [
             0.4,
             "#fde0ef"
            ],
            [
             0.5,
             "#f7f7f7"
            ],
            [
             0.6,
             "#e6f5d0"
            ],
            [
             0.7,
             "#b8e186"
            ],
            [
             0.8,
             "#7fbc41"
            ],
            [
             0.9,
             "#4d9221"
            ],
            [
             1,
             "#276419"
            ]
           ],
           "sequential": [
            [
             0,
             "#0d0887"
            ],
            [
             0.1111111111111111,
             "#46039f"
            ],
            [
             0.2222222222222222,
             "#7201a8"
            ],
            [
             0.3333333333333333,
             "#9c179e"
            ],
            [
             0.4444444444444444,
             "#bd3786"
            ],
            [
             0.5555555555555556,
             "#d8576b"
            ],
            [
             0.6666666666666666,
             "#ed7953"
            ],
            [
             0.7777777777777778,
             "#fb9f3a"
            ],
            [
             0.8888888888888888,
             "#fdca26"
            ],
            [
             1,
             "#f0f921"
            ]
           ],
           "sequentialminus": [
            [
             0,
             "#0d0887"
            ],
            [
             0.1111111111111111,
             "#46039f"
            ],
            [
             0.2222222222222222,
             "#7201a8"
            ],
            [
             0.3333333333333333,
             "#9c179e"
            ],
            [
             0.4444444444444444,
             "#bd3786"
            ],
            [
             0.5555555555555556,
             "#d8576b"
            ],
            [
             0.6666666666666666,
             "#ed7953"
            ],
            [
             0.7777777777777778,
             "#fb9f3a"
            ],
            [
             0.8888888888888888,
             "#fdca26"
            ],
            [
             1,
             "#f0f921"
            ]
           ]
          },
          "colorway": [
           "#636efa",
           "#EF553B",
           "#00cc96",
           "#ab63fa",
           "#FFA15A",
           "#19d3f3",
           "#FF6692",
           "#B6E880",
           "#FF97FF",
           "#FECB52"
          ],
          "font": {
           "color": "#2a3f5f"
          },
          "geo": {
           "bgcolor": "white",
           "lakecolor": "white",
           "landcolor": "#E5ECF6",
           "showlakes": true,
           "showland": true,
           "subunitcolor": "white"
          },
          "hoverlabel": {
           "align": "left"
          },
          "hovermode": "closest",
          "mapbox": {
           "style": "light"
          },
          "paper_bgcolor": "white",
          "plot_bgcolor": "#E5ECF6",
          "polar": {
           "angularaxis": {
            "gridcolor": "white",
            "linecolor": "white",
            "ticks": ""
           },
           "bgcolor": "#E5ECF6",
           "radialaxis": {
            "gridcolor": "white",
            "linecolor": "white",
            "ticks": ""
           }
          },
          "scene": {
           "xaxis": {
            "backgroundcolor": "#E5ECF6",
            "gridcolor": "white",
            "gridwidth": 2,
            "linecolor": "white",
            "showbackground": true,
            "ticks": "",
            "zerolinecolor": "white"
           },
           "yaxis": {
            "backgroundcolor": "#E5ECF6",
            "gridcolor": "white",
            "gridwidth": 2,
            "linecolor": "white",
            "showbackground": true,
            "ticks": "",
            "zerolinecolor": "white"
           },
           "zaxis": {
            "backgroundcolor": "#E5ECF6",
            "gridcolor": "white",
            "gridwidth": 2,
            "linecolor": "white",
            "showbackground": true,
            "ticks": "",
            "zerolinecolor": "white"
           }
          },
          "shapedefaults": {
           "line": {
            "color": "#2a3f5f"
           }
          },
          "ternary": {
           "aaxis": {
            "gridcolor": "white",
            "linecolor": "white",
            "ticks": ""
           },
           "baxis": {
            "gridcolor": "white",
            "linecolor": "white",
            "ticks": ""
           },
           "bgcolor": "#E5ECF6",
           "caxis": {
            "gridcolor": "white",
            "linecolor": "white",
            "ticks": ""
           }
          },
          "title": {
           "x": 0.05
          },
          "xaxis": {
           "automargin": true,
           "gridcolor": "white",
           "linecolor": "white",
           "ticks": "",
           "title": {
            "standoff": 15
           },
           "zerolinecolor": "white",
           "zerolinewidth": 2
          },
          "yaxis": {
           "automargin": true,
           "gridcolor": "white",
           "linecolor": "white",
           "ticks": "",
           "title": {
            "standoff": 15
           },
           "zerolinecolor": "white",
           "zerolinewidth": 2
          }
         }
        },
        "width": 1000
       }
      }
     },
     "metadata": {},
     "output_type": "display_data"
    }
   ],
   "source": [
    "recruiter_city = hh_df['Город'].value_counts()\n",
    "recruiter_city_fig = px.pie(values=recruiter_city,\n",
    "                            names=['Москва', 'другие', 'город-миллионник', 'Санкт-Петербург'],\n",
    "                            width=1000)\n",
    "\n",
    "recruiter_city_fig.update_traces(textposition='outside',\n",
    "                                 textinfo='percent+label',\n",
    "                                 pull=[0, 0, 0, 0.1],\n",
    "                                 title=dict({'font.size': 20,\n",
    "                                             'position': 'top center',\n",
    "                                             'text': 'Соотношение количества рекрутеров по городам'}),\n",
    "                                 opacity=0.9)\n",
    "recruiter_city_fig.show()"
   ]
  },
  {
   "cell_type": "code",
   "execution_count": 126,
   "id": "203802b8",
   "metadata": {},
   "outputs": [
    {
     "name": "stdout",
     "output_type": "stream",
     "text": [
      "<class 'pandas.core.frame.DataFrame'>\n",
      "RangeIndex: 44744 entries, 0 to 44743\n",
      "Data columns (total 15 columns):\n",
      " #   Column                           Non-Null Count  Dtype  \n",
      "---  ------                           --------------  -----  \n",
      " 0   ЗП                               44744 non-null  object \n",
      " 1   Ищет работу на должность:        44744 non-null  object \n",
      " 2   Занятость                        44744 non-null  object \n",
      " 3   График                           44744 non-null  object \n",
      " 4   Последнее/нынешнее место работы  44743 non-null  object \n",
      " 5   Последняя/нынешняя должность     44742 non-null  object \n",
      " 6   Обновление резюме                44744 non-null  object \n",
      " 7   Авто                             44744 non-null  object \n",
      " 8   Образование                      44744 non-null  object \n",
      " 9   Пол                              44744 non-null  object \n",
      " 10  Возраст                          44744 non-null  int64  \n",
      " 11  Опыт работы (месяц)              44576 non-null  float64\n",
      " 12  Город                            44744 non-null  object \n",
      " 13  Готовность к переезду            44744 non-null  bool   \n",
      " 14  Готовность к командировкам       44744 non-null  bool   \n",
      "dtypes: bool(2), float64(1), int64(1), object(11)\n",
      "memory usage: 4.5+ MB\n"
     ]
    }
   ],
   "source": [
    "hh_df = hh_df.drop('Город, переезд, командировки', axis=1)\n",
    "hh_df.info()"
   ]
  },
  {
   "cell_type": "markdown",
   "id": "0136ffee-0ead-4a6b-b608-61d1c753a438",
   "metadata": {},
   "source": [
    "5. Рассмотрим поближе признаки **\"Занятость\"** и **\"График\"**. Сейчас признаки представляют собой набор категорий желаемой занятости (полная занятость, частичная занятость, проектная работа, волонтерство, стажировка) и желаемого графика работы (полный день, сменный график, гибкий график, удаленная работа, вахтовый метод).\n",
    "На сайте hh.ru соискатель может указывать различные комбинации данных категорий, например:\n",
    "* полная занятость, частичная занятость\n",
    "* частичная занятость, проектная работа, волонтерство\n",
    "* полный день, удаленная работа\n",
    "* вахтовый метод, гибкий график, удаленная работа, полная занятость\n",
    "\n",
    "Такой вариант признаков имеет множество различных комбинаций, а значит множество уникальных значений, что мешает анализу. Нужно это исправить!\n",
    "\n",
    "Давайте создадим признаки-мигалки для каждой категории: если категория присутствует в списке желаемых соискателем, то в столбце на месте строки рассматриваемого соискателя ставится True, иначе - False.\n",
    "\n",
    "Такой метод преобразования категориальных признаков называется One Hot Encoding и его схема представлена на рисунке ниже:\n",
    "<img src=https://raw.githubusercontent.com/AndreyRysistov/DatasetsForPandas/main/ohe.jpg>\n",
    "Выполните данное преобразование для признаков \"Занятость\" и \"График\", ответьте на контрольные вопросы, после чего удалите их из таблицы"
   ]
  },
  {
   "cell_type": "code",
   "execution_count": 127,
   "id": "5b3a8e79-f7ab-4008-b767-12aea3a205ea",
   "metadata": {},
   "outputs": [],
   "source": [
    "def get_one_hot_enc(in_str: str, col_name: str) -> bool:\n",
    "    \"\"\"Функция принимает строку и возвращает признак наличия заданного признака\n",
    "\n",
    "    Args:\n",
    "        in_str (str): Строка из Series\n",
    "        col_name (str): Заданный признак для поиска\n",
    "\n",
    "    Returns:\n",
    "        bool: True - есть признак\n",
    "    \"\"\"\n",
    "    \n",
    "    in_str = in_str.split(', ')\n",
    "    \n",
    "    if col_name in in_str:\n",
    "        return True\n",
    "    \n",
    "    else:\n",
    "        return False  "
   ]
  },
  {
   "cell_type": "code",
   "execution_count": 128,
   "id": "897b0958",
   "metadata": {},
   "outputs": [],
   "source": [
    "busyness_types = ['полная занятость', \n",
    "                  'частичная занятость', \n",
    "                  'проектная работа', \n",
    "                  'волонтерство', \n",
    "                  'стажировка']\n",
    "\n",
    "for b_type in busyness_types:\n",
    "    hh_df[b_type] = hh_df['Занятость'].apply(get_one_hot_enc, args=(b_type, ))"
   ]
  },
  {
   "cell_type": "code",
   "execution_count": 129,
   "id": "8ae438b8",
   "metadata": {},
   "outputs": [
    {
     "name": "stdout",
     "output_type": "stream",
     "text": [
      "True     43284\n",
      "False     1460\n",
      "Name: полная занятость, dtype: int64\n",
      "False    31608\n",
      "True     13136\n",
      "Name: частичная занятость, dtype: int64\n",
      "False    36676\n",
      "True      8068\n",
      "Name: проектная работа, dtype: int64\n",
      "False    44258\n",
      "True       486\n",
      "Name: волонтерство, dtype: int64\n",
      "False    41940\n",
      "True      2804\n",
      "Name: стажировка, dtype: int64\n"
     ]
    }
   ],
   "source": [
    "for b_type in busyness_types:\n",
    "    print(hh_df[b_type].value_counts())"
   ]
  },
  {
   "cell_type": "code",
   "execution_count": 130,
   "id": "e4deac55",
   "metadata": {},
   "outputs": [],
   "source": [
    "schedule_types = ['полный день', \n",
    "                  'сменный график', \n",
    "                  'гибкий график', \n",
    "                  'удаленная работа', \n",
    "                  'вахтовый метод']\n",
    "\n",
    "for s_type in schedule_types:\n",
    "    hh_df[s_type] = hh_df['График'].apply(get_one_hot_enc, args=(s_type, ))"
   ]
  },
  {
   "cell_type": "code",
   "execution_count": 131,
   "id": "4ef81e3a",
   "metadata": {},
   "outputs": [
    {
     "name": "stdout",
     "output_type": "stream",
     "text": [
      "True     41716\n",
      "False     3028\n",
      "Name: полный день, dtype: int64\n",
      "False    32019\n",
      "True     12725\n",
      "Name: сменный график, dtype: int64\n",
      "False    29160\n",
      "True     15584\n",
      "Name: гибкий график, dtype: int64\n",
      "False    29722\n",
      "True     15022\n",
      "Name: удаленная работа, dtype: int64\n",
      "False    41660\n",
      "True      3084\n",
      "Name: вахтовый метод, dtype: int64\n"
     ]
    }
   ],
   "source": [
    "for s_type in schedule_types:\n",
    "    print(hh_df[s_type].value_counts())"
   ]
  },
  {
   "cell_type": "code",
   "execution_count": 132,
   "id": "4c909ea9",
   "metadata": {},
   "outputs": [],
   "source": [
    "hh_df = hh_df.drop('Занятость', axis=1)\n",
    "hh_df = hh_df.drop('График', axis=1)"
   ]
  },
  {
   "cell_type": "code",
   "execution_count": 133,
   "id": "3353312e",
   "metadata": {},
   "outputs": [
    {
     "name": "stdout",
     "output_type": "stream",
     "text": [
      "<class 'pandas.core.frame.DataFrame'>\n",
      "RangeIndex: 44744 entries, 0 to 44743\n",
      "Data columns (total 23 columns):\n",
      " #   Column                           Non-Null Count  Dtype  \n",
      "---  ------                           --------------  -----  \n",
      " 0   ЗП                               44744 non-null  object \n",
      " 1   Ищет работу на должность:        44744 non-null  object \n",
      " 2   Последнее/нынешнее место работы  44743 non-null  object \n",
      " 3   Последняя/нынешняя должность     44742 non-null  object \n",
      " 4   Обновление резюме                44744 non-null  object \n",
      " 5   Авто                             44744 non-null  object \n",
      " 6   Образование                      44744 non-null  object \n",
      " 7   Пол                              44744 non-null  object \n",
      " 8   Возраст                          44744 non-null  int64  \n",
      " 9   Опыт работы (месяц)              44576 non-null  float64\n",
      " 10  Город                            44744 non-null  object \n",
      " 11  Готовность к переезду            44744 non-null  bool   \n",
      " 12  Готовность к командировкам       44744 non-null  bool   \n",
      " 13  полная занятость                 44744 non-null  bool   \n",
      " 14  частичная занятость              44744 non-null  bool   \n",
      " 15  проектная работа                 44744 non-null  bool   \n",
      " 16  волонтерство                     44744 non-null  bool   \n",
      " 17  стажировка                       44744 non-null  bool   \n",
      " 18  полный день                      44744 non-null  bool   \n",
      " 19  сменный график                   44744 non-null  bool   \n",
      " 20  гибкий график                    44744 non-null  bool   \n",
      " 21  удаленная работа                 44744 non-null  bool   \n",
      " 22  вахтовый метод                   44744 non-null  bool   \n",
      "dtypes: bool(12), float64(1), int64(1), object(9)\n",
      "memory usage: 4.3+ MB\n"
     ]
    }
   ],
   "source": [
    "hh_df.info()"
   ]
  },
  {
   "cell_type": "markdown",
   "id": "344f123c-b63b-43dd-a8a4-809c1f1bb443",
   "metadata": {},
   "source": [
    "6. (2 балла) Наконец, мы добрались до самого главного и самого важного - признака заработной платы **\"ЗП\"**. \n",
    "В чем наша беда? В том, что помимо желаемой заработной платы соискатель указывает валюту, в которой он бы хотел ее получать, например:\n",
    "* 30000 руб.\n",
    "* 50000 грн.\n",
    "* 550 USD\n",
    "\n",
    "Нам бы хотелось видеть заработную плату в единой валюте, например, в рублях. Возникает вопрос, а где взять курс валют по отношению к рублю?\n",
    "\n",
    "На самом деле язык Python имеет в арсенале огромное количество возможностей получения данной информации, от обращения к API Центробанка, до использования специальных библиотек, например pycbrf. Однако, это не тема нашего проекта.\n",
    "\n",
    "Поэтому мы пойдем в лоб: обратимся к специальным интернет-ресурсам для получения данных о курсе в виде текстовых файлов. Например, MDF.RU, данный ресурс позволяет удобно экспортировать данные о курсах различных валют и акций за указанные периоды в виде csv файлов. Мы уже сделали выгрузку курсов валют, которые встречаются в наших данных за период с 29.12.2017 по 05.12.2019. Скачать ее вы можете **на платформе**\n",
    "\n",
    "Создайте новый DataFrame из полученного файла. В полученной таблице нас будут интересовать столбцы:\n",
    "* \"currency\" - наименование валюты в ISO кодировке,\n",
    "* \"date\" - дата, \n",
    "* \"proportion\" - пропорция, \n",
    "* \"close\" - цена закрытия (последний зафиксированный курс валюты на указанный день).\n",
    "\n",
    "\n",
    "Перед вами таблица соответствия наименований иностранных валют в наших данных и их общепринятых сокращений, которые представлены в нашем файле с курсами валют. Пропорция - это число, за сколько единиц валюты указан курс в таблице с курсами. Например, для казахстанского тенге курс на 20.08.2019 составляет 17.197 руб. за 100 тенге, тогда итоговый курс равен - 17.197 / 100 = 0.17197 руб за 1 тенге.\n",
    "Воспользуйтесь этой информацией в ваших преобразованиях.\n",
    "\n",
    "<img src=https://raw.githubusercontent.com/AndreyRysistov/DatasetsForPandas/main/table.jpg>\n",
    "\n",
    "\n",
    "Осталось только понять, откуда брать дату, по которой определяется курс? А вот же она - в признаке **\"Обновление резюме\"**, в нем содержится дата и время, когда соискатель выложил текущий вариант своего резюме. Нас интересует только дата, по ней бы и будем сопоставлять курсы валют.\n",
    "\n",
    "Теперь у нас есть вся необходимая информация для того, чтобы создать признак \"ЗП (руб)\" - заработная плата в рублях.\n",
    "\n",
    "После ответа на контрольные вопросы удалите исходный столбец заработной платы \"ЗП\" и все промежуточные столбцы, если вы их создавали."
   ]
  },
  {
   "cell_type": "markdown",
   "id": "6d794257-61f5-4124-956b-67b92b9391a7",
   "metadata": {
    "tags": []
   },
   "source": [
    "Итак, давайте обсудим возможный алгоритм преобразования: \n",
    "1. Перевести признак \"Обновление резюме\" из таблицы с резюме в формат datetime и достать из него дату. В тот же формат привести признак \"date\" из таблицы с валютами.\n",
    "2. Выделить из столбца \"ЗП\" сумму желаемой заработной платы и наименование валюты, в которой она исчисляется. Наименование валюты перевести в стандарт ISO согласно с таблицей выше.\n",
    "3. Присоединить к таблице с резюме таблицу с курсами по столбцам с датой и названием валюты (подумайте, какой тип объединения надо выбрать, чтобы в таблице с резюме сохранились данные о заработной плате, изначально представленной в рублях). Значение close для рубля заполнить единицей 1 (курс рубля самого к себе)\n",
    "4. Умножить сумму желаемой заработной платы на присоединенный курс валюты (close) и разделить на пропорцию (обратите внимание на пропуски после объединения в этих столбцах), результат занести в новый столбец \"ЗП (руб)\".\n"
   ]
  },
  {
   "cell_type": "code",
   "execution_count": 134,
   "id": "e91f87ed-e25c-4f96-9f92-b642e8c0b4fa",
   "metadata": {},
   "outputs": [],
   "source": [
    "hh_df['Обновление резюме'] = pd.to_datetime(hh_df['Обновление резюме'])\n",
    "hh_df['Обновление резюме'] = hh_df['Обновление резюме'].dt.date"
   ]
  },
  {
   "cell_type": "code",
   "execution_count": 135,
   "id": "7081a35e",
   "metadata": {},
   "outputs": [],
   "source": [
    "currency_df = pd.read_csv('/home/frater/Документы/python_dev/py_study/kg_database/ExchangeRates.csv', sep=',')"
   ]
  },
  {
   "cell_type": "code",
   "execution_count": 136,
   "id": "f53a03c7",
   "metadata": {},
   "outputs": [],
   "source": [
    "currency_df['date'] = pd.to_datetime(currency_df['date'])\n",
    "currency_df['date'] = currency_df['date'].dt.date"
   ]
  },
  {
   "cell_type": "code",
   "execution_count": 137,
   "id": "9e518c58",
   "metadata": {},
   "outputs": [
    {
     "data": {
      "text/plain": [
       "datetime.date(2019, 4, 16)"
      ]
     },
     "execution_count": 137,
     "metadata": {},
     "output_type": "execute_result"
    }
   ],
   "source": [
    "hh_df['Обновление резюме'][0]"
   ]
  },
  {
   "cell_type": "code",
   "execution_count": 138,
   "id": "7b91dfaf",
   "metadata": {},
   "outputs": [],
   "source": [
    "def get_currency(in_str: str) -> str:\n",
    "    \"\"\"Функция принимает информацию о желаемой зарплате рекрутера и возвращает валюту ЗП в ISO-кодировке\n",
    "\n",
    "    Args:\n",
    "        in_str (str): Информация о желаемой ЗП рекрутера\n",
    "\n",
    "    Returns:\n",
    "        str: Валюта в ISO-кодировке\n",
    "    \"\"\"\n",
    "    \n",
    "    currency_dict = {'руб.': 'RUB', \n",
    "                     'KZT': 'KZT', \n",
    "                     'USD': 'USD', \n",
    "                     'грн.': 'UAH', \n",
    "                     'сум': 'UZS', \n",
    "                     'EUR': 'EUR', \n",
    "                     'AZN': 'AZN', \n",
    "                     'KGS': 'KGS',\n",
    "                     'бел.руб.': 'BYN'}\n",
    "    in_str = in_str.split(' ')[1]\n",
    "    \n",
    "    return currency_dict[in_str]"
   ]
  },
  {
   "cell_type": "code",
   "execution_count": 139,
   "id": "3f0cd613",
   "metadata": {},
   "outputs": [],
   "source": [
    "hh_df['ЗП(ISO)'] = hh_df['ЗП'].apply(get_currency)"
   ]
  },
  {
   "cell_type": "code",
   "execution_count": 140,
   "id": "1db1d3c8",
   "metadata": {},
   "outputs": [],
   "source": [
    "hh_df = hh_df.merge(currency_df, left_on=['Обновление резюме', 'ЗП(ISO)'], right_on=['date', 'currency'], how='left')"
   ]
  },
  {
   "cell_type": "code",
   "execution_count": 141,
   "id": "88ccea01",
   "metadata": {},
   "outputs": [],
   "source": [
    "def get_salary(in_str: str) -> str:\n",
    "    \"\"\"Функция принимает строку DataFrame с информацией о рекрутере и возращает желаемую ЗП в рублях\n",
    "\n",
    "    Args:\n",
    "        in_str (str): строка DataFrame\n",
    "\n",
    "    Returns:\n",
    "        str: ЗП в рублях\n",
    "    \"\"\"\n",
    "    \n",
    "    recruiter_salary = float(in_str['ЗП'].split(' ')[0]) #Ожидаемая ЗП рекрутера\n",
    "    recruiter_currency = in_str['ЗП(ISO)'] # Валюта ЗП рекрутера в ISO-кодировке\n",
    "     \n",
    "    if recruiter_currency == 'RUB':\n",
    "        currency_rate = 1 # Курс валюты\n",
    "        currency_proportion = 1 # Проворция валюты к рублю\n",
    "        \n",
    "    else:\n",
    "        currency_rate = in_str['close'] # Курс валюты\n",
    "        currency_proportion = in_str['proportion'] # Проворция валюты к рублю\n",
    "    \n",
    "    final_currency_rate = currency_rate / currency_proportion    \n",
    "\n",
    "    return recruiter_salary * final_currency_rate\n",
    "    "
   ]
  },
  {
   "cell_type": "code",
   "execution_count": 142,
   "id": "59fc5b2c",
   "metadata": {},
   "outputs": [],
   "source": [
    "hh_df['ЗП (руб)'] = hh_df.apply(get_salary, axis=1)"
   ]
  },
  {
   "cell_type": "code",
   "execution_count": 143,
   "id": "ea368c97",
   "metadata": {},
   "outputs": [],
   "source": [
    "hh_df = hh_df.drop('date', axis=1)\n",
    "hh_df = hh_df.drop('vol', axis=1)\n",
    "hh_df = hh_df.drop('proportion', axis=1)\n",
    "hh_df = hh_df.drop('time', axis=1)\n",
    "hh_df = hh_df.drop('currency', axis=1)\n",
    "hh_df = hh_df.drop('per', axis=1)\n",
    "hh_df = hh_df.drop('close', axis=1)\n",
    "hh_df = hh_df.drop('ЗП(ISO)', axis=1)\n",
    "hh_df = hh_df.drop('ЗП', axis=1)"
   ]
  },
  {
   "cell_type": "code",
   "execution_count": 144,
   "id": "e136edbc",
   "metadata": {},
   "outputs": [
    {
     "name": "stdout",
     "output_type": "stream",
     "text": [
      "<class 'pandas.core.frame.DataFrame'>\n",
      "Int64Index: 44744 entries, 0 to 44743\n",
      "Data columns (total 23 columns):\n",
      " #   Column                           Non-Null Count  Dtype  \n",
      "---  ------                           --------------  -----  \n",
      " 0   Ищет работу на должность:        44744 non-null  object \n",
      " 1   Последнее/нынешнее место работы  44743 non-null  object \n",
      " 2   Последняя/нынешняя должность     44742 non-null  object \n",
      " 3   Обновление резюме                44744 non-null  object \n",
      " 4   Авто                             44744 non-null  object \n",
      " 5   Образование                      44744 non-null  object \n",
      " 6   Пол                              44744 non-null  object \n",
      " 7   Возраст                          44744 non-null  int64  \n",
      " 8   Опыт работы (месяц)              44576 non-null  float64\n",
      " 9   Город                            44744 non-null  object \n",
      " 10  Готовность к переезду            44744 non-null  bool   \n",
      " 11  Готовность к командировкам       44744 non-null  bool   \n",
      " 12  полная занятость                 44744 non-null  bool   \n",
      " 13  частичная занятость              44744 non-null  bool   \n",
      " 14  проектная работа                 44744 non-null  bool   \n",
      " 15  волонтерство                     44744 non-null  bool   \n",
      " 16  стажировка                       44744 non-null  bool   \n",
      " 17  полный день                      44744 non-null  bool   \n",
      " 18  сменный график                   44744 non-null  bool   \n",
      " 19  гибкий график                    44744 non-null  bool   \n",
      " 20  удаленная работа                 44744 non-null  bool   \n",
      " 21  вахтовый метод                   44744 non-null  bool   \n",
      " 22  ЗП (руб)                         44744 non-null  float64\n",
      "dtypes: bool(12), float64(2), int64(1), object(8)\n",
      "memory usage: 4.6+ MB\n"
     ]
    }
   ],
   "source": [
    "hh_df.info()"
   ]
  },
  {
   "cell_type": "markdown",
   "id": "7ea20ab6-04a7-40a0-adec-443a0e5a42c3",
   "metadata": {},
   "source": [
    "# Исследование зависимостей в данных"
   ]
  },
  {
   "cell_type": "markdown",
   "id": "968aed80-74ef-4ffb-b5bf-c65b84e9caea",
   "metadata": {},
   "source": [
    "1. Постройте распределение признака **\"Возраст\"**. Опишите распределение, отвечая на следующие вопросы: чему равна мода распределения, каковы предельные значения признака, в каком примерном интервале находится возраст большинства соискателей? Есть ли аномалии для признака возраста, какие значения вы бы причислили к их числу?\n",
    "*Совет: постройте гистограмму и коробчатую диаграмму рядом.*"
   ]
  },
  {
   "cell_type": "code",
   "execution_count": 145,
   "id": "b56fd82f",
   "metadata": {},
   "outputs": [
    {
     "data": {
      "image/png": "[encoded data removed]",
      "text/plain": [
       "<Figure size 2160x1080 with 2 Axes>"
      ]
     },
     "metadata": {
      "needs_background": "light"
     },
     "output_type": "display_data"
    }
   ],
   "source": [
    "fig, ax = plt.subplots(nrows=2, ncols=1, figsize=(30, 15))\n",
    "\n",
    "age_hist = sns.histplot(hh_df,\n",
    "                        x='Возраст',\n",
    "                        kde=True,\n",
    "                        ax=ax[0],\n",
    "                       );\n",
    "\n",
    "ax[0].axvline(hh_df['Возраст'].mode()[0], color='r', label='Мода = {}'.format(hh_df['Возраст'].mode()[0]));\n",
    "\n",
    "age_hist.set(xlabel='Распределение возраста рекрутеров',\n",
    "             ylabel='Количество рекрутеров',\n",
    "             title='График распределения возраста рекрутеров',\n",
    "            )\n",
    "\n",
    "age_box = sns.boxplot(x=hh_df['Возраст'], orient='h');\n",
    "\n",
    "age_box.set(xlabel='Распределение возраста рекрутеров',\n",
    "           )\n",
    "\n",
    "mod_age = hh_df['Возраст'].mode()[0]\n",
    "q25_age = hh_df['Возраст'].quantile(0.25)\n",
    "q75_age = hh_df['Возраст'].quantile(0.75)\n",
    "min_age = hh_df['Возраст'].min()\n",
    "max_age = hh_df['Возраст'].max()\n",
    "\n",
    "ax[0].legend(prop={'size': 20})\n",
    "ax[1].text(0.80, 0.68, 'Мода = {}\\nQ25 = {}\\nQ75 = {}\\nМинимальный возраст = {}\\nМаксимальный возраст = {}'.format(mod_age, q25_age, q75_age, min_age, max_age),\n",
    "           bbox=dict(facecolor='none',edgecolor='black',boxstyle='square'), transform=ax[1].transAxes, size=20)\n",
    "plt.show()"
   ]
  },
  {
   "cell_type": "markdown",
   "id": "88967466-5070-4bea-9e71-b3efefdc6e4a",
   "metadata": {},
   "source": [
    "#### ---------------------------  \n",
    "#### Модальный возраст рекрутеров - 30 лет.  \n",
    "#### По значения квантилей можно сказать, что возраст основной массы клиентов лежит пределах от 27 до 36 лет.  \n",
    "#### Из аномалий наблюдается левая ассиметрия. Так же минимальный и максимальный возраст вызвыают вопросы, скорее всего это выбросы. На хвост после 63 лет тоже стоит обраить внимание, может в будующем стоит от него избавиться.  \n",
    "#### ---------------------------  "
   ]
  },
  {
   "cell_type": "markdown",
   "id": "68377cfc-b378-43dc-ab7d-1195abf2c515",
   "metadata": {},
   "source": [
    "2. Постройте распределение признака **\"Опыт работы (месяц)\"**. Опишите данное распределение, отвечая на следующие вопросы: чему равна мода распределения, каковы предельные значения признака, в каком примерном интервале находится опыт работы большинства соискателей? Есть ли аномалии для признака возраста, какие значения вы бы причислили к их числу?\n",
    "*Совет: постройте гистограмму и коробчатую диаграмму рядом.*"
   ]
  },
  {
   "cell_type": "code",
   "execution_count": 146,
   "id": "dd7df27a-e3e8-412e-a21a-5d389b71e891",
   "metadata": {},
   "outputs": [
    {
     "data": {
      "image/png": "[encoded data removed]",
      "text/plain": [
       "<Figure size 2160x1080 with 2 Axes>"
      ]
     },
     "metadata": {
      "needs_background": "light"
     },
     "output_type": "display_data"
    }
   ],
   "source": [
    "fig, ax = plt.subplots(nrows=2, ncols=1, figsize=(30, 15))\n",
    "\n",
    "exp_hist = sns.histplot(hh_df,\n",
    "                        x='Опыт работы (месяц)',\n",
    "                        kde=True,\n",
    "                        ax=ax[0],\n",
    "                       );\n",
    "\n",
    "ax[0].axvline(hh_df['Опыт работы (месяц)'].mode()[0], color='r', label='Мода (мес.)= {}'.format(hh_df['Опыт работы (месяц)'].mode()[0]));\n",
    "\n",
    "exp_hist.set(xlabel='Распределение опыта работы рекрутеров',\n",
    "             ylabel='Количество рекрутеров',\n",
    "             title='График распределения опыта работы рекрутеров в месяцах',\n",
    "            )\n",
    "\n",
    "exp_box = sns.boxplot(x=hh_df['Опыт работы (месяц)'], orient='h');\n",
    "\n",
    "exp_box.set(xlabel='Распределение опыта работы рекрутеров',\n",
    "           )\n",
    "\n",
    "mod_age = round(hh_df['Опыт работы (месяц)'].mode()[0] / 12, 0)\n",
    "q25_age = round(hh_df['Опыт работы (месяц)'].quantile(0.25) / 12, 0)\n",
    "q75_age = round(hh_df['Опыт работы (месяц)'].quantile(0.75) / 12, 0)\n",
    "min_age = round(hh_df['Опыт работы (месяц)'].min() / 12, 0)\n",
    "max_age = round(hh_df['Опыт работы (месяц)'].max() / 12, 0)\n",
    "\n",
    "ax[0].legend(prop={'size': 20})\n",
    "ax[1].text(0.81, 0.61, 'Опыт работы (лет):\\nМода = {}\\nQ25 = {}\\nQ75 = {}\\nМинимальный опыт = {}\\nМаксимальный опыт = {}'.format(mod_age, q25_age, q75_age, min_age, max_age),\n",
    "           bbox=dict(facecolor='none',edgecolor='black',boxstyle='square'), transform=ax[1].transAxes, size=20)\n",
    "plt.show()"
   ]
  },
  {
   "cell_type": "markdown",
   "id": "7305c34b-089d-4986-be9f-5fa1c0ee281c",
   "metadata": {},
   "source": [
    "#### ---------------------------  \n",
    "#### Модальный опыт работы рекрутеров - 81 месяц или 6,75 лет.  \n",
    "#### По значения квантилей можно сказать, что возраст основной массы клиентов лежит пределах от 5 до 13 лет.  \n",
    "#### Из аномалий наблюдается левая ассиметрияс двумя вершинами. В отличии от возраст с опытом работы намного больше вопросов к примеру предположим, что человек работает с 18 до 67 лет в среднем соответсвенно опыт работы в среднем 49 лет или 588 месяцев здесь же опыт работы достигает 1200 месяцев или 99 лет или 1189 месяцев.  \n",
    "#### Так же интересно сравнить возраст рекрутера с его опытом работы (опыт работы не должен превышать возраст рекрутера при условии, что он начал работать с 14 лет)   \n",
    "#### ---------------------------  "
   ]
  },
  {
   "cell_type": "markdown",
   "id": "f2fe0acb-ab1a-4e15-9326-2560e22d73c1",
   "metadata": {},
   "source": [
    "3. Постройте распределение признака **\"ЗП (руб)\"**. Опишите данное распределение, отвечая на следующие вопросы: каковы предельные значения признака, в каком примерном интервале находится заработная плата большинства соискателей? Есть ли аномалии для признака возраста? Обратите внимание на гигантские размеры желаемой заработной платы.\n",
    "*Совет: постройте гистограмму и коробчатую диаграмму рядом.*\n"
   ]
  },
  {
   "cell_type": "code",
   "execution_count": 150,
   "id": "6271f8ad-bd2e-4196-ae4a-5b39c4c1010e",
   "metadata": {},
   "outputs": [],
   "source": [
    "# ваш код здесь"
   ]
  },
  {
   "cell_type": "markdown",
   "id": "6c39ca13-225e-48f7-a85c-ab07a6cc852a",
   "metadata": {},
   "source": [
    "ваши выводы здесь"
   ]
  },
  {
   "cell_type": "markdown",
   "id": "eab2206d-d95b-468b-8e5f-34381abf0ce7",
   "metadata": {},
   "source": [
    "4. Постройте диаграмму, которая показывает зависимость **медианной** желаемой заработной платы (**\"ЗП (руб)\"**) от уровня образования (**\"Образование\"**). Используйте для диаграммы данные о резюме, где желаемая заработная плата меньше 1 млн рублей.\n",
    "*Сделайте выводы по представленной диаграмме: для каких уровней образования наблюдаются наибольшие и наименьшие уровни желаемой заработной платы? Как вы считаете, важен ли признак уровня образования при прогнозировании заработной платы?*"
   ]
  },
  {
   "cell_type": "code",
   "execution_count": 151,
   "id": "80defb23-bfb1-4a18-8be6-bf36aa7165d5",
   "metadata": {},
   "outputs": [],
   "source": [
    "# ваш код здесь"
   ]
  },
  {
   "cell_type": "markdown",
   "id": "dc463319-3f85-47dd-b66e-aecb0be0c76f",
   "metadata": {},
   "source": [
    "ваши выводы здесь"
   ]
  },
  {
   "cell_type": "markdown",
   "id": "0112af31-f6b0-4e3b-82ab-71296e752e5e",
   "metadata": {},
   "source": [
    "5. Постройте диаграмму, которая показывает распределение желаемой заработной платы (**\"ЗП (руб)\"**) в зависимости от города (**\"Город\"**). Используйте для диаграммы данные о резюме, где желая заработная плата меньше 1 млн рублей.\n",
    "*Сделайте выводы по полученной диаграмме: как соотносятся медианные уровни желаемой заработной платы и их размах в городах? Как вы считаете, важен ли признак города при прогнозировании заработной платы?*"
   ]
  },
  {
   "cell_type": "code",
   "execution_count": 152,
   "id": "973b0cfc-a972-470a-8b4a-68744ef220c4",
   "metadata": {},
   "outputs": [],
   "source": [
    "# ваш код здесь"
   ]
  },
  {
   "cell_type": "markdown",
   "id": "2710ce73-2e81-4e38-b52f-833cd14ba47a",
   "metadata": {
    "tags": []
   },
   "source": [
    "ваши выводы здесь"
   ]
  },
  {
   "cell_type": "markdown",
   "id": "3bfcfdaf-755d-4d2b-8ed8-326201dc07ab",
   "metadata": {},
   "source": [
    "6. Постройте **многоуровневую столбчатую диаграмму**, которая показывает зависимость медианной заработной платы (**\"ЗП (руб)\"**) от признаков **\"Готовность к переезду\"** и **\"Готовность к командировкам\"**. Проанализируйте график, сравнив уровень заработной платы в категориях."
   ]
  },
  {
   "cell_type": "code",
   "execution_count": 153,
   "id": "ad3f270f-2991-47eb-929b-e8f88a55b0d1",
   "metadata": {},
   "outputs": [],
   "source": [
    "# ваш код здесь"
   ]
  },
  {
   "cell_type": "code",
   "execution_count": 154,
   "id": "efcf512a-4918-4c3f-9357-b3035f9e5f5f",
   "metadata": {},
   "outputs": [
    {
     "ename": "SyntaxError",
     "evalue": "invalid syntax (3546990623.py, line 1)",
     "output_type": "error",
     "traceback": [
      "\u001b[0;36m  File \u001b[0;32m\"/tmp/ipykernel_6968/3546990623.py\"\u001b[0;36m, line \u001b[0;32m1\u001b[0m\n\u001b[0;31m    ваши выводы здесь\u001b[0m\n\u001b[0m         ^\u001b[0m\n\u001b[0;31mSyntaxError\u001b[0m\u001b[0;31m:\u001b[0m invalid syntax\n"
     ]
    }
   ],
   "source": [
    "ваши выводы здесь"
   ]
  },
  {
   "cell_type": "markdown",
   "id": "7b02bb86-0546-40fb-94a4-242f050a5c57",
   "metadata": {},
   "source": [
    "7. Постройте сводную таблицу, иллюстрирующую зависимость **медианной** желаемой заработной платы от возраста (**\"Возраст\"**) и образования (**\"Образование\"**). На полученной сводной таблице постройте **тепловую карту**. Проанализируйте тепловую карту, сравнив показатели внутри групп."
   ]
  },
  {
   "cell_type": "code",
   "execution_count": null,
   "id": "5a0e32a4-e68a-4365-8a39-2fe24c542c36",
   "metadata": {},
   "outputs": [],
   "source": [
    "# ваш код здесь"
   ]
  },
  {
   "cell_type": "markdown",
   "id": "7aade1c2-16a0-418c-8427-ad93927c7705",
   "metadata": {},
   "source": [
    "ваши выводы здесь"
   ]
  },
  {
   "cell_type": "markdown",
   "id": "d0247088-9003-455b-a591-a44650f487c3",
   "metadata": {},
   "source": [
    "8. Постройте **диаграмму рассеяния**, показывающую зависимость опыта работы (**\"Опыт работы (месяц)\"**) от возраста (**\"Возраст\"**). Опыт работы переведите из месяцев в года, чтобы признаки были в едином масштабе. Постройте на графике дополнительно прямую, проходящую через точки (0, 0) и (100, 100). Данная прямая соответствует значениям, когда опыт работы равен возрасту человека. Точки, лежащие на этой прямой и выше нее - аномалии в наших данных (опыт работы больше либо равен возрасту соискателя)"
   ]
  },
  {
   "cell_type": "code",
   "execution_count": null,
   "id": "a4143e50-b900-4ec8-9ae9-fc3ec3347287",
   "metadata": {},
   "outputs": [],
   "source": [
    "# ваш код здесь"
   ]
  },
  {
   "cell_type": "markdown",
   "id": "6f9218ff-52c7-4742-b328-4db5d4da7262",
   "metadata": {},
   "source": [
    "ваши выводы здесь"
   ]
  },
  {
   "cell_type": "markdown",
   "id": "0cc3b0d5-b551-424d-9956-8da18fce17a1",
   "metadata": {},
   "source": [
    "**Дополнительные баллы**\n",
    "\n",
    "Для получения 2 дополнительных баллов по разведывательному анализу постройте еще два любых содержательных графика или диаграммы, которые помогут проиллюстрировать влияние признаков/взаимосвязь между признаками/распределения признаков. Приведите выводы по ним. Желательно, чтобы в анализе участвовали признаки, которые мы создавали ранее в разделе \"Преобразование данных\".\n"
   ]
  },
  {
   "cell_type": "code",
   "execution_count": null,
   "id": "e273ec66-b8df-41e5-9b99-bdab93dddd85",
   "metadata": {},
   "outputs": [],
   "source": [
    "# ваш код здесь"
   ]
  },
  {
   "cell_type": "markdown",
   "id": "04966e40-3bc3-4dc8-9ba2-e80580ce3abc",
   "metadata": {},
   "source": [
    "ваши выводы здесь"
   ]
  },
  {
   "cell_type": "markdown",
   "id": "b1ef156a-efcb-49ce-bb23-90763e7f35b2",
   "metadata": {
    "tags": []
   },
   "source": [
    "# Очистка данных"
   ]
  },
  {
   "cell_type": "markdown",
   "id": "b9cd50a0-992d-4988-8463-2b2b1c4629b4",
   "metadata": {},
   "source": [
    "1. Начнем с дубликатов в наших данных. Найдите **полные дубликаты** в таблице с резюме и удалите их. "
   ]
  },
  {
   "cell_type": "code",
   "execution_count": null,
   "id": "54ab0e50-c0f1-47cc-a54b-bc5c8bc363f9",
   "metadata": {},
   "outputs": [],
   "source": [
    "# ваш код здесь"
   ]
  },
  {
   "cell_type": "markdown",
   "id": "4dea20cb-a36b-474a-a0b9-e08e8e3857a5",
   "metadata": {},
   "source": [
    "2. Займемся пропусками. Выведите информацию **о числе пропусков** в столбцах. "
   ]
  },
  {
   "cell_type": "code",
   "execution_count": null,
   "id": "9c61b3c0-bb66-46c9-ae1e-81d3f5752b4a",
   "metadata": {},
   "outputs": [],
   "source": [
    "# ваш код здесь"
   ]
  },
  {
   "cell_type": "markdown",
   "id": "eedceb80-c5ca-480e-b27a-278dfb8b4438",
   "metadata": {},
   "source": [
    "3. Итак, у нас есть пропуски в 3ех столбцах: **\"Опыт работы (месяц)\"**, **\"Последнее/нынешнее место работы\"**, **\"Последняя/нынешняя должность\"**. Поступим следующим образом: удалите строки, где есть пропуск в столбцах с местом работы и должностью. Пропуски в столбце с опытом работы заполните **медианным** значением."
   ]
  },
  {
   "cell_type": "code",
   "execution_count": null,
   "id": "69621713-0cc5-4f1b-a1d7-bb144fa6148c",
   "metadata": {},
   "outputs": [],
   "source": [
    "# ваш код здесь"
   ]
  },
  {
   "cell_type": "markdown",
   "id": "1be1e9c6-37cf-4a5f-bfeb-04cab799dc80",
   "metadata": {},
   "source": [
    "4. Мы добрались до ликвидации выбросов. Сначала очистим данные вручную. Удалите резюме, в которых указана заработная плата либо выше 1 млн. рублей, либо ниже 1 тыс. рублей."
   ]
  },
  {
   "cell_type": "code",
   "execution_count": null,
   "id": "0036a355-9ccf-4564-8b01-73d8194297e7",
   "metadata": {},
   "outputs": [],
   "source": [
    "# ваш код здесь"
   ]
  },
  {
   "cell_type": "markdown",
   "id": "ec3c8db7-fa21-4a41-a994-1af63742a642",
   "metadata": {},
   "source": [
    "5. В процессе разведывательного анализа мы обнаружили резюме, в которых **опыт работы в годах превышал возраст соискателя**. Найдите такие резюме и удалите их из данных\n"
   ]
  },
  {
   "cell_type": "code",
   "execution_count": null,
   "id": "949132bc-d5b6-4611-8218-0b9a504d74f4",
   "metadata": {},
   "outputs": [],
   "source": [
    "# ваш код здесь"
   ]
  },
  {
   "cell_type": "markdown",
   "id": "1041c17a-ca8f-4543-a0ca-32778914fb00",
   "metadata": {},
   "source": [
    "6. В результате анализа мы обнаружили потенциальные выбросы в признаке **\"Возраст\"**. Это оказались резюме людей чересчур преклонного возраста для поиска работы. Попробуйте построить распределение признака в **логарифмическом масштабе**? В какую сторону **асимметрично логарифмическое распределение**? Найдите выбросы с помощью **метода z-отклонения** и удалите их из данных, используйте логарифмический масштаб, сделайте **послабление на 1 сигму (возьмите 4 сигмы)** в сторону, противоположную асимметрии. "
   ]
  },
  {
   "cell_type": "code",
   "execution_count": null,
   "id": "6a743d39-5204-48d3-8271-b9f88e68d40e",
   "metadata": {},
   "outputs": [],
   "source": [
    "# ваш код здесь"
   ]
  }
 ],
 "metadata": {
  "kernelspec": {
   "display_name": "Python 3 (ipykernel)",
   "language": "python",
   "name": "python3"
  },
  "language_info": {
   "codemirror_mode": {
    "name": "ipython",
    "version": 3
   },
   "file_extension": ".py",
   "mimetype": "text/x-python",
   "name": "python",
   "nbconvert_exporter": "python",
   "pygments_lexer": "ipython3",
   "version": "3.8.11"
  }
 },
 "nbformat": 4,
 "nbformat_minor": 5
}
